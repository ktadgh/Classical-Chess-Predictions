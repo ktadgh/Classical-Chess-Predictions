{
 "cells": [
  {
   "cell_type": "code",
   "execution_count": 1010,
   "metadata": {},
   "outputs": [],
   "source": [
    "import pandas as pd\n",
    "import numpy as np\n",
    "from torch import nn\n",
    "from sklearn.preprocessing import PowerTransformer\n",
    "from torchviz import make_dot\n",
    "from itertools import islice\n",
    "import torch\n",
    "import numpy\n",
    "from sklearn.model_selection import train_test_split\n",
    "import statistics as stats\n",
    "import matplotlib.pyplot as plt\n",
    "from torch.utils.tensorboard import SummaryWriter\n",
    "import hiddenlayer as hl\n",
    "import graphviz\n",
    "from sklearn.linear_model import LinearRegression\n",
    "from sklearn.preprocessing import PolynomialFeatures\n",
    "\n",
    "import seaborn as sns\n",
    "from sklearn.metrics import mean_squared_error"
   ]
  },
  {
   "cell_type": "code",
   "execution_count": 1011,
   "outputs": [],
   "source": [
    "g = graphviz.Graph(engine='neato')"
   ],
   "metadata": {
    "collapsed": false
   }
  },
  {
   "cell_type": "markdown",
   "metadata": {},
   "source": [
    "# Importing the data"
   ]
  },
  {
   "cell_type": "code",
   "execution_count": 1012,
   "metadata": {},
   "outputs": [],
   "source": [
    "def to_list(str):\n",
    "    '''\n",
    "    :param str: string representing a list of centipawn losses\n",
    "    :return: list of integer centipawn losses\n",
    "    '''\n",
    "    string = str.replace('[','').replace(']','')\n",
    "    ls = string.split(',')\n",
    "    list = [int(i) for i in ls]\n",
    "\n",
    "    return list"
   ]
  },
  {
   "cell_type": "code",
   "execution_count": 1013,
   "outputs": [],
   "source": [
    "def black_process(eval):\n",
    "    '''\n",
    "    :param eval: list of integer centipawn losses\n",
    "    :return: array of lists of [evaluation, centipawn loss]\n",
    "    '''\n",
    "\n",
    "    # starting evaluation of 30 centipawns\n",
    "    sum = 30\n",
    "\n",
    "    i = 0\n",
    "    res = []\n",
    "\n",
    "    # iterating through centipawn losses\n",
    "    for cpl in eval:\n",
    "\n",
    "        # subtracting the cpl for white's moves\n",
    "        if i % 2 ==0:\n",
    "            sum -= cpl\n",
    "            i += 1\n",
    "\n",
    "        # adding the cpl for black's moves\n",
    "        else:\n",
    "            res.append([sum,cpl])\n",
    "            sum+=cpl\n",
    "            i+=1\n",
    "\n",
    "    return numpy.array(res)"
   ],
   "metadata": {
    "collapsed": false
   }
  },
  {
   "cell_type": "code",
   "execution_count": 1014,
   "metadata": {},
   "outputs": [],
   "source": [
    "def white_process(eval):\n",
    "    '''\n",
    "    :param eval: list of integer centipawn losses\n",
    "    :return: array of lists of [evaluation, centipawn loss]\n",
    "    '''\n",
    "\n",
    "    # starting evaluation of 30 centipawns\n",
    "    sum = 30\n",
    "\n",
    "    i = 0\n",
    "    res = []\n",
    "\n",
    "    # iterating through centipawn losses\n",
    "    for cpl in eval:\n",
    "\n",
    "        # subtracting the cpl for white's moves\n",
    "        if i % 2 ==0:\n",
    "            res.append([sum,cpl])\n",
    "            sum -= cpl\n",
    "            i += 1\n",
    "\n",
    "        # adding the cpl for black's moves\n",
    "        else:\n",
    "            sum+=cpl\n",
    "            i+=1\n",
    "\n",
    "    return numpy.array(res)"
   ]
  },
  {
   "cell_type": "code",
   "execution_count": 1015,
   "metadata": {},
   "outputs": [
    {
     "name": "stdout",
     "output_type": "stream",
     "text": [
      "Total  games: 3420\n",
      "Evaluted games: 457\n"
     ]
    }
   ],
   "source": [
    "# reading *some* of the data\n",
    "dfs = []\n",
    "\n",
    "players = ['andreikin, dmitry', 'anand, viswanathan', 'wang, hao', 'grischuk, alexander', 'karjakin, sergey','duda, jan-krzysztof', 'radjabov, teimour', 'dominguez perez, leinier','nakamura, hikaru', 'vachier-lagrave, maxime','aronian, levon','mamedyarov, shakhriyar', 'so, wesley','ding, liren', 'rapport, richard', 'nepomniachtchi, ian', 'giri, anish', 'firouzja, alireza', 'caruana, fabiano','carlsen, magnus','zelcic, robert','khotenashvili, bela', 'bischoff, klaus', 'hoffmann, asa','kaufman, lawrence','bellaiche, elise']\n",
    "\n",
    "# reading the csvs\n",
    "for player in players[3:]:\n",
    "    df = pd.read_csv('blitz/'+player +'.csv')\n",
    "    dfs.append(df)\n",
    "df = pd.concat(dfs)\n",
    "\n",
    "\n",
    "print(f\"Total  games: {len(df)}\")\n",
    "\n",
    "# Filtering out * values\n",
    "df = df[df['WhiteELO'] != '*']\n",
    "df = df[df['BlackELO'] != '*']\n",
    "df[['WhiteELO', 'BlackELO']] = df[['WhiteELO', 'BlackELO']] .astype(int)\n",
    "\n",
    "df = df[df['Eval'] != '']\n",
    "df = df[ df['Eval'].apply(lambda x: isinstance(x, str))]\n",
    "\n",
    "\n",
    "# converting the evaluation to a list\n",
    "df['Eval'] = df['Eval'].apply( to_list)\n",
    "df['WhiteEval'] = df['Eval'].apply( white_process )\n",
    "df['BlackEval'] = df['Eval'].apply( black_process )\n",
    "\n",
    "print(f\"Evaluted games: {len(df['Eval'])}\")"
   ]
  },
  {
   "cell_type": "code",
   "execution_count": 1016,
   "metadata": {},
   "outputs": [],
   "source": [
    "white_x = numpy.array(df['WhiteEval'])\n",
    "white_length = numpy.array(df['WhiteEval'].apply(len))\n",
    "\n",
    "black_x = numpy.array(df['WhiteEval'])\n",
    "black_length = numpy.array(df['WhiteEval'].apply(len))"
   ]
  },
  {
   "cell_type": "code",
   "execution_count": 1016,
   "outputs": [],
   "source": [],
   "metadata": {
    "collapsed": false
   }
  },
  {
   "cell_type": "code",
   "execution_count": 1017,
   "metadata": {},
   "outputs": [],
   "source": [
    "# creating and fitting a power transformer for black and white\n",
    "wpt = PowerTransformer()\n",
    "white_y = numpy.concatenate(white_x)\n",
    "wpt.fit(white_y)\n",
    "white_transformed = wpt.transform(white_y)\n",
    "\n",
    "bpt = PowerTransformer()\n",
    "black_y = numpy.concatenate(black_x)\n",
    "bpt.fit(black_y)\n",
    "black_transformed = bpt.transform(black_y)"
   ]
  },
  {
   "cell_type": "markdown",
   "source": [],
   "metadata": {
    "collapsed": false
   }
  },
  {
   "cell_type": "code",
   "execution_count": 1018,
   "outputs": [],
   "source": [
    "def avg_cpl(white_processed):\n",
    "    cpls = []\n",
    "    for i in white_processed:\n",
    "        cpls.append(i[1])\n",
    "    if len(cpls) == 0:\n",
    "        return float('NaN')\n",
    "    else:\n",
    "        return stats.mean(cpls)"
   ],
   "metadata": {
    "collapsed": false
   }
  },
  {
   "cell_type": "code",
   "execution_count": 1019,
   "outputs": [],
   "source": [
    "df['White_avg_cpl'] = df['WhiteEval'].apply( avg_cpl )"
   ],
   "metadata": {
    "collapsed": false
   }
  },
  {
   "cell_type": "code",
   "execution_count": 1020,
   "outputs": [],
   "source": [
    "df = df[df['Eval']!='']"
   ],
   "metadata": {
    "collapsed": false
   }
  },
  {
   "cell_type": "code",
   "execution_count": 1021,
   "outputs": [
    {
     "name": "stdout",
     "output_type": "stream",
     "text": [
      "White_avg_cpl\n",
      " 0      7\n",
      " 32     6\n",
      " 12     5\n",
      " 26     4\n",
      " 40     4\n",
      "       ..\n",
      "-56     1\n",
      "-57     1\n",
      "-60     1\n",
      "-61     1\n",
      " 952    1\n",
      "Length: 344, dtype: int64\n"
     ]
    },
    {
     "data": {
      "text/plain": "<Figure size 432x288 with 1 Axes>",
      "image/png": "[encoded data removed]"
     },
     "metadata": {},
     "output_type": "display_data"
    }
   ],
   "source": [
    "df['WhiteELO'].hist()\n",
    "print(df.value_counts('White_avg_cpl'))"
   ],
   "metadata": {
    "collapsed": false
   }
  },
  {
   "cell_type": "code",
   "execution_count": 1022,
   "outputs": [
    {
     "data": {
      "text/plain": "<AxesSubplot:xlabel='WhiteELO', ylabel='[White_avg_cpl]'>"
     },
     "execution_count": 1022,
     "metadata": {},
     "output_type": "execute_result"
    },
    {
     "data": {
      "text/plain": "<Figure size 432x288 with 1 Axes>",
      "image/png": "[encoded data removed]"
     },
     "metadata": {},
     "output_type": "display_data"
    }
   ],
   "source": [
    "df.plot.scatter(x='WhiteELO', y = ['White_avg_cpl'])"
   ],
   "metadata": {
    "collapsed": false
   }
  },
  {
   "cell_type": "code",
   "execution_count": 1023,
   "outputs": [
    {
     "name": "stderr",
     "output_type": "stream",
     "text": [
      "C:\\Users\\Administrator\\AppData\\Local\\Programs\\Python\\Python310\\lib\\site-packages\\seaborn\\_decorators.py:36: FutureWarning: Pass the following variables as keyword args: x, y. From version 0.12, the only valid positional argument will be `data`, and passing other arguments without an explicit keyword will result in an error or misinterpretation.\n",
      "  warnings.warn(\n"
     ]
    },
    {
     "data": {
      "text/plain": "<AxesSubplot:xlabel='WhiteELO', ylabel='White_avg_cpl'>"
     },
     "execution_count": 1023,
     "metadata": {},
     "output_type": "execute_result"
    },
    {
     "data": {
      "text/plain": "<Figure size 432x288 with 1 Axes>",
      "image/png": "[encoded data removed]"
     },
     "metadata": {},
     "output_type": "display_data"
    }
   ],
   "source": [
    "plt.figure()\n",
    "sns.regplot(df['WhiteELO'], df['White_avg_cpl'])"
   ],
   "metadata": {
    "collapsed": false
   }
  },
  {
   "cell_type": "code",
   "execution_count": 1024,
   "outputs": [],
   "source": [
    "# make a simple linear regression model.\n",
    "X = np.array(df['White_avg_cpl'])\n",
    "X = np.reshape(X, (len(X), 1))\n",
    "y = np.array(df['WhiteELO'])\n",
    "y = np.reshape(y, (len(y), 1))\n",
    "regression = LinearRegression()\n",
    "\n",
    "X_train, X_test, y_train, y_test = train_test_split(X, y, test_size = 0.2)\n",
    "\n",
    "regression.fit(X_train,y_train)\n",
    "regression.score(X_test,y_test)\n",
    "#plt.scatter(y, pred_y)\n",
    "\n",
    "y_pred = regression.predict(X_test)"
   ],
   "metadata": {
    "collapsed": false
   }
  },
  {
   "cell_type": "code",
   "execution_count": 1025,
   "metadata": {},
   "outputs": [],
   "source": [
    "# need a function now to (effieciently) change these to lists of length list\n",
    "white_transformed_array = [numpy.array(list(islice(iter(white_transformed), elem)))\n",
    "        for elem in white_length]\n",
    "\n",
    "black_transformed_array = [numpy.array(list(islice(iter(black_transformed), elem)))\n",
    "        for elem in black_length]"
   ]
  },
  {
   "cell_type": "code",
   "execution_count": 1026,
   "metadata": {},
   "outputs": [
    {
     "name": "stdout",
     "output_type": "stream",
     "text": [
      "Unique evaluated games: 434\n"
     ]
    }
   ],
   "source": [
    "print(f\"Unique evaluated games: {df['Game'].nunique()}\")"
   ]
  },
  {
   "cell_type": "markdown",
   "metadata": {},
   "source": [
    "# Preparing the data for the Neural Net"
   ]
  },
  {
   "cell_type": "code",
   "execution_count": 1027,
   "metadata": {},
   "outputs": [],
   "source": [
    "# converting evaluations and length to tensors\n",
    "white_evals = [torch.tensor(i, dtype = torch.float32) for i in white_transformed_array]\n",
    "white_lengths = [len(tensor) for tensor in white_evals]\n",
    "\n",
    "black_evals = [torch.tensor(i, dtype = torch.float32) for i in black_transformed_array]\n",
    "black_lengths = [len(tensor) for tensor in black_evals]"
   ]
  },
  {
   "cell_type": "code",
   "execution_count": 1028,
   "metadata": {},
   "outputs": [],
   "source": [
    "# Padding my sequences - not sure why batch first works, but it does\n",
    "#inputs = torch.nn.utils.rnn.pad_sequence(evals, batch_first=True, padding_value=0.0)"
   ]
  },
  {
   "cell_type": "code",
   "execution_count": 1029,
   "metadata": {},
   "outputs": [],
   "source": [
    "#inputs_array = numpy.array(inputs.tolist())"
   ]
  },
  {
   "cell_type": "code",
   "execution_count": 1030,
   "metadata": {},
   "outputs": [],
   "source": [
    "#print(inputs.shape)"
   ]
  },
  {
   "cell_type": "code",
   "execution_count": 1031,
   "metadata": {},
   "outputs": [],
   "source": [
    "#inputs_list =inputs.tolist()\n",
    "\n",
    "# normalizing... a bit hacky\n",
    "#inputs_array = (numpy.array(inputs_list) - numpy.array(inputs_list).mean())/ numpy.linalg.norm(numpy.array(inputs_list))"
   ]
  },
  {
   "cell_type": "code",
   "execution_count": 1032,
   "metadata": {},
   "outputs": [],
   "source": [
    "def normalize(array):\n",
    "    '''\n",
    "    :param array:\n",
    "    :return:\n",
    "    '''\n",
    "    return (array - array.mean())/array.std()\n",
    "\n",
    "def denormalize(array, value):\n",
    "    '''\n",
    "    :param array:\n",
    "    :param value:\n",
    "    :return:\n",
    "    '''\n",
    "    return value*array.std() + array.mean()"
   ]
  },
  {
   "cell_type": "code",
   "execution_count": 1033,
   "metadata": {},
   "outputs": [],
   "source": [
    "#print(df['WhiteELO'].value_counts())"
   ]
  },
  {
   "cell_type": "code",
   "execution_count": 1034,
   "outputs": [],
   "source": [
    "from sklearn import preprocessing"
   ],
   "metadata": {
    "collapsed": false
   }
  },
  {
   "cell_type": "code",
   "execution_count": 1035,
   "outputs": [],
   "source": [
    "white_elo_arr = numpy.array(df['WhiteELO'])\n"
   ],
   "metadata": {
    "collapsed": false
   }
  },
  {
   "cell_type": "code",
   "execution_count": 1035,
   "outputs": [],
   "source": [
    "\n"
   ],
   "metadata": {
    "collapsed": false
   }
  },
  {
   "cell_type": "code",
   "execution_count": 1035,
   "outputs": [],
   "source": [],
   "metadata": {
    "collapsed": false
   }
  },
  {
   "cell_type": "code",
   "execution_count": 1035,
   "outputs": [],
   "source": [],
   "metadata": {
    "collapsed": false
   }
  },
  {
   "cell_type": "code",
   "execution_count": 1036,
   "outputs": [],
   "source": [
    "welopt = PowerTransformer()\n",
    "white_elo_arr = np.reshape(white_elo_arr, (len(white_elo_arr),1))\n",
    "welopt.fit(white_elo_arr)\n",
    "white_elo_transformed = welopt.transform(white_elo_arr)"
   ],
   "metadata": {
    "collapsed": false
   }
  },
  {
   "cell_type": "code",
   "execution_count": 1037,
   "outputs": [
    {
     "name": "stdout",
     "output_type": "stream",
     "text": [
      "[[2632]\n",
      " [2795]\n",
      " [2784]\n",
      " [2709]\n",
      " [2750]\n",
      " [2503]\n",
      " [2736]\n",
      " [2716]\n",
      " [2719]\n",
      " [2731]\n",
      " [2703]\n",
      " [2764]\n",
      " [2795]\n",
      " [2754]\n",
      " [2766]\n",
      " [2736]\n",
      " [2498]\n",
      " [2772]\n",
      " [2722]\n",
      " [2772]\n",
      " [2749]\n",
      " [2543]\n",
      " [2752]\n",
      " [2688]\n",
      " [2777]\n",
      " [2777]\n",
      " [2792]\n",
      " [2709]\n",
      " [2775]\n",
      " [2741]\n",
      " [2433]\n",
      " [2752]\n",
      " [2727]\n",
      " [2752]\n",
      " [2541]\n",
      " [2681]\n",
      " [2581]\n",
      " [2730]\n",
      " [2653]\n",
      " [2731]\n",
      " [2710]\n",
      " [2795]\n",
      " [2774]\n",
      " [2832]\n",
      " [2798]\n",
      " [2766]\n",
      " [2760]\n",
      " [2772]\n",
      " [2752]\n",
      " [2541]\n",
      " [2799]\n",
      " [2779]\n",
      " [2771]\n",
      " [2743]\n",
      " [2456]\n",
      " [2757]\n",
      " [2785]\n",
      " [2773]\n",
      " [2754]\n",
      " [2764]\n",
      " [2743]\n",
      " [2753]\n",
      " [2613]\n",
      " [2385]\n",
      " [2709]\n",
      " [2782]\n",
      " [2630]\n",
      " [2723]\n",
      " [2688]\n",
      " [2783]\n",
      " [2772]\n",
      " [2760]\n",
      " [2509]\n",
      " [2773]\n",
      " [2606]\n",
      " [2700]\n",
      " [2760]\n",
      " [2786]\n",
      " [2700]\n",
      " [2779]\n",
      " [2727]\n",
      " [2723]\n",
      " [2777]\n",
      " [2783]\n",
      " [2756]\n",
      " [2789]\n",
      " [2738]\n",
      " [2628]\n",
      " [2717]\n",
      " [2628]\n",
      " [2734]\n",
      " [2352]\n",
      " [2784]\n",
      " [2694]\n",
      " [2731]\n",
      " [2629]\n",
      " [2628]\n",
      " [2628]\n",
      " [2734]\n",
      " [2640]\n",
      " [2622]\n",
      " [2758]\n",
      " [2729]\n",
      " [2777]\n",
      " [2717]\n",
      " [2620]\n",
      " [2608]\n",
      " [2819]\n",
      " [2597]\n",
      " [2729]\n",
      " [2700]\n",
      " [2608]\n",
      " [2717]\n",
      " [2729]\n",
      " [2731]\n",
      " [2699]\n",
      " [2793]\n",
      " [2731]\n",
      " [2724]\n",
      " [2738]\n",
      " [2422]\n",
      " [2724]\n",
      " [2788]\n",
      " [2738]\n",
      " [2725]\n",
      " [2560]\n",
      " [2793]\n",
      " [2765]\n",
      " [2760]\n",
      " [2710]\n",
      " [2788]\n",
      " [2710]\n",
      " [2726]\n",
      " [2693]\n",
      " [2749]\n",
      " [2710]\n",
      " [2744]\n",
      " [2734]\n",
      " [2744]\n",
      " [2714]\n",
      " [2777]\n",
      " [2837]\n",
      " [2713]\n",
      " [2801]\n",
      " [2732]\n",
      " [2739]\n",
      " [2739]\n",
      " [2730]\n",
      " [2719]\n",
      " [2509]\n",
      " [2739]\n",
      " [2758]\n",
      " [2726]\n",
      " [2739]\n",
      " [2732]\n",
      " [2709]\n",
      " [2763]\n",
      " [2758]\n",
      " [2719]\n",
      " [2757]\n",
      " [2710]\n",
      " [2726]\n",
      " [2526]\n",
      " [2773]\n",
      " [2729]\n",
      " [2739]\n",
      " [2608]\n",
      " [2521]\n",
      " [2758]\n",
      " [2631]\n",
      " [2763]\n",
      " [2743]\n",
      " [2739]\n",
      " [2763]\n",
      " [2763]\n",
      " [2709]\n",
      " [2750]\n",
      " [2758]\n",
      " [2732]\n",
      " [2732]\n",
      " [2758]\n",
      " [2721]\n",
      " [2757]\n",
      " [2739]\n",
      " [2735]\n",
      " [2387]\n",
      " [2719]\n",
      " [2752]\n",
      " [2726]\n",
      " [2781]\n",
      " [2731]\n",
      " [2687]\n",
      " [2751]\n",
      " [2784]\n",
      " [2758]\n",
      " [2750]\n",
      " [2383]\n",
      " [2732]\n",
      " [2739]\n",
      " [2740]\n",
      " [2769]\n",
      " [2389]\n",
      " [2767]\n",
      " [2783]\n",
      " [2783]\n",
      " [2571]\n",
      " [2749]\n",
      " [2428]\n",
      " [2787]\n",
      " [2785]\n",
      " [2792]\n",
      " [2748]\n",
      " [2736]\n",
      " [2682]\n",
      " [2737]\n",
      " [2779]\n",
      " [2791]\n",
      " [2701]\n",
      " [2741]\n",
      " [2784]\n",
      " [2763]\n",
      " [2778]\n",
      " [2692]\n",
      " [2906]\n",
      " [2772]\n",
      " [2805]\n",
      " [2754]\n",
      " [2832]\n",
      " [2361]\n",
      " [2791]\n",
      " [2729]\n",
      " [2749]\n",
      " [2754]\n",
      " [2786]\n",
      " [2540]\n",
      " [2765]\n",
      " [2775]\n",
      " [2780]\n",
      " [2795]\n",
      " [2819]\n",
      " [2780]\n",
      " [2789]\n",
      " [2745]\n",
      " [2707]\n",
      " [2789]\n",
      " [2788]\n",
      " [2780]\n",
      " [2792]\n",
      " [2795]\n",
      " [2734]\n",
      " [2758]\n",
      " [2789]\n",
      " [2805]\n",
      " [2783]\n",
      " [2771]\n",
      " [2796]\n",
      " [2703]\n",
      " [2789]\n",
      " [2687]\n",
      " [2703]\n",
      " [2652]\n",
      " [2745]\n",
      " [2775]\n",
      " [2808]\n",
      " [2782]\n",
      " [2796]\n",
      " [2760]\n",
      " [2795]\n",
      " [2700]\n",
      " [2789]\n",
      " [2652]\n",
      " [2785]\n",
      " [2772]\n",
      " [2804]\n",
      " [2662]\n",
      " [2784]\n",
      " [2634]\n",
      " [2805]\n",
      " [2799]\n",
      " [2739]\n",
      " [2788]\n",
      " [2795]\n",
      " [2458]\n",
      " [2678]\n",
      " [2758]\n",
      " [2805]\n",
      " [2815]\n",
      " [2772]\n",
      " [2707]\n",
      " [2575]\n",
      " [2756]\n",
      " [2799]\n",
      " [2814]\n",
      " [2799]\n",
      " [2767]\n",
      " [2773]\n",
      " [2808]\n",
      " [2767]\n",
      " [2815]\n",
      " [2804]\n",
      " [2599]\n",
      " [2796]\n",
      " [2782]\n",
      " [2627]\n",
      " [2782]\n",
      " [2783]\n",
      " [2787]\n",
      " [2752]\n",
      " [2805]\n",
      " [2780]\n",
      " [2764]\n",
      " [2797]\n",
      " [2762]\n",
      " [2670]\n",
      " [2850]\n",
      " [2816]\n",
      " [2792]\n",
      " [2832]\n",
      " [2797]\n",
      " [2751]\n",
      " [2753]\n",
      " [2772]\n",
      " [2736]\n",
      " [2757]\n",
      " [2763]\n",
      " [2782]\n",
      " [2719]\n",
      " [2737]\n",
      " [2799]\n",
      " [2455]\n",
      " [2757]\n",
      " [2764]\n",
      " [2709]\n",
      " [2817]\n",
      " [2702]\n",
      " [2770]\n",
      " [2754]\n",
      " [2765]\n",
      " [2571]\n",
      " [2782]\n",
      " [2674]\n",
      " [2799]\n",
      " [2718]\n",
      " [2743]\n",
      " [2786]\n",
      " [2719]\n",
      " [2767]\n",
      " [2764]\n",
      " [2682]\n",
      " [2646]\n",
      " [2717]\n",
      " [2753]\n",
      " [2735]\n",
      " [2754]\n",
      " [2743]\n",
      " [2082]\n",
      " [2714]\n",
      " [2764]\n",
      " [2754]\n",
      " [2710]\n",
      " [2741]\n",
      " [2747]\n",
      " [2731]\n",
      " [2738]\n",
      " [2809]\n",
      " [2760]\n",
      " [2739]\n",
      " [2693]\n",
      " [2765]\n",
      " [2770]\n",
      " [2832]\n",
      " [2757]\n",
      " [2785]\n",
      " [2786]\n",
      " [2770]\n",
      " [2750]\n",
      " [2760]\n",
      " [2778]\n",
      " [2772]\n",
      " [2780]\n",
      " [2766]\n",
      " [2812]\n",
      " [2770]\n",
      " [2785]\n",
      " [2796]\n",
      " [2785]\n",
      " [2787]\n",
      " [2773]\n",
      " [2782]\n",
      " [2812]\n",
      " [2789]\n",
      " [2801]\n",
      " [2757]\n",
      " [2778]\n",
      " [2782]\n",
      " [2769]\n",
      " [2770]\n",
      " [2788]\n",
      " [2770]\n",
      " [2739]\n",
      " [2815]\n",
      " [2762]\n",
      " [2481]\n",
      " [2786]\n",
      " [2776]\n",
      " [2777]\n",
      " [2801]\n",
      " [2683]\n",
      " [2702]\n",
      " [2808]\n",
      " [2681]\n",
      " [2777]\n",
      " [2837]\n",
      " [2702]\n",
      " [2791]\n",
      " [2777]\n",
      " [2709]\n",
      " [2715]\n",
      " [2774]\n",
      " [2530]\n",
      " [2731]\n",
      " [2793]\n",
      " [2709]\n",
      " [2754]\n",
      " [2737]\n",
      " [2707]\n",
      " [2731]\n",
      " [2752]\n",
      " [2185]\n",
      " [2336]\n",
      " [2185]\n",
      " [2185]\n",
      " [2185]\n",
      " [2185]\n",
      " [2185]\n",
      " [2185]\n",
      " [2185]\n",
      " [2185]\n",
      " [2141]\n",
      " [2185]\n",
      " [2304]\n",
      " [2400]\n",
      " [2293]\n",
      " [2406]\n",
      " [2205]\n",
      " [2393]\n",
      " [1788]\n",
      " [2036]\n",
      " [1603]\n",
      " [1731]\n",
      " [2036]\n",
      " [2036]\n",
      " [2030]\n",
      " [1951]\n",
      " [2036]\n",
      " [2036]\n",
      " [2294]]\n"
     ]
    }
   ],
   "source": [
    "print(white_elo_arr)"
   ],
   "metadata": {
    "collapsed": false
   }
  },
  {
   "cell_type": "code",
   "execution_count": 1038,
   "outputs": [
    {
     "name": "stdout",
     "output_type": "stream",
     "text": [
      "457\n"
     ]
    }
   ],
   "source": [
    "print(len(white_elo_transformed))"
   ],
   "metadata": {
    "collapsed": false
   }
  },
  {
   "cell_type": "code",
   "execution_count": 1039,
   "outputs": [
    {
     "data": {
      "text/plain": "(array([ 54.,  29.,  55., 137., 137.,  37.,   6.,   1.,   0.,   1.]),\n array([-2.21181915, -1.56410739, -0.91639563, -0.26868387,  0.37902789,\n         1.02673965,  1.67445141,  2.32216316,  2.96987492,  3.61758668,\n         4.26529844]),\n <BarContainer object of 10 artists>)"
     },
     "execution_count": 1039,
     "metadata": {},
     "output_type": "execute_result"
    },
    {
     "data": {
      "text/plain": "<Figure size 432x288 with 1 Axes>",
      "image/png": "[encoded data removed]"
     },
     "metadata": {},
     "output_type": "display_data"
    }
   ],
   "source": [
    "plt.hist(white_elo_transformed)"
   ],
   "metadata": {
    "collapsed": false
   }
  },
  {
   "cell_type": "code",
   "execution_count": 1040,
   "metadata": {},
   "outputs": [],
   "source": [
    "# Converting White and Black's ELOs to tensors\n",
    "\n",
    "\n",
    "#white_elo = normalize(white_elo_arr)\n",
    "\n",
    "#print(white_elo)\n",
    "white_elo = [torch.tensor(i, dtype = torch.float32) for i in white_elo_transformed]\n",
    "\n",
    "\n",
    "\n",
    "black_elo = numpy.array(df['BlackELO'])\n",
    "black_elo = [torch.tensor(i, dtype = torch.float32) for i in black_elo]\n",
    "\n",
    "average_cpl = np.array(df['White_avg_cpl'])\n",
    "\n",
    "# splitting into train and test\n",
    "#lengths_train, lengths_test,white_eval_train, white_eval_test, black_eval_train, black_eval_test, black_train, black_test, white_train, white_test  = train_test_split(lengths, white_evals, black_evals, black_elo, white_elo, test_size=0.2,random_state=0, shuffle = True)\n",
    "white_eval_train, white_eval_test, black_eval_train, black_eval_test, black_train, black_test, white_train, white_test, average_cpl_train, average_cpl_test  = train_test_split(white_evals, black_evals, black_elo, white_elo, average_cpl, test_size=0.2,random_state=100, shuffle = True)"
   ]
  },
  {
   "cell_type": "markdown",
   "source": [
    "## Baseline model"
   ],
   "metadata": {
    "collapsed": false
   }
  },
  {
   "cell_type": "code",
   "execution_count": 1041,
   "outputs": [],
   "source": [
    "average_cpl_train = np.reshape(average_cpl_train, (len(average_cpl_train),1))\n",
    "average_cpl_test = np.reshape(average_cpl_test, (len(average_cpl_test),1))"
   ],
   "metadata": {
    "collapsed": false
   }
  },
  {
   "cell_type": "code",
   "execution_count": 1042,
   "outputs": [],
   "source": [
    "white_train_elo = np.array([x.item() for x in white_train])\n",
    "white_train_elo = np.reshape(white_train_elo, (len(white_train_elo),1 ))\n",
    "\n",
    "white_test_elo = np.array([x.item() for x in white_test])\n",
    "white_test_elo = np.reshape(white_test_elo, (len(white_test_elo),1 ))"
   ],
   "metadata": {
    "collapsed": false
   }
  },
  {
   "cell_type": "code",
   "execution_count": 1043,
   "outputs": [],
   "source": [
    "#white_train_elo = welopt.inverse_transform(white_train_elo)\n",
    "#white_test_elo = welopt.inverse_transform(white_test_elo)"
   ],
   "metadata": {
    "collapsed": false
   }
  },
  {
   "cell_type": "code",
   "execution_count": 1044,
   "outputs": [],
   "source": [
    "# make a simple linear regression model.\n",
    "regression = LinearRegression()\n",
    "\n",
    "\n",
    "regression.fit(average_cpl_train,white_train_elo)\n",
    "regression.score(average_cpl_test,white_test_elo)\n",
    "#plt.scatter(y, pred_y)\n",
    "\n",
    "y_pred = regression.predict(average_cpl_test)"
   ],
   "metadata": {
    "collapsed": false
   }
  },
  {
   "cell_type": "code",
   "execution_count": 1045,
   "outputs": [],
   "source": [
    "mse_lin = mean_squared_error(white_test_elo, y_pred)"
   ],
   "metadata": {
    "collapsed": false
   }
  },
  {
   "cell_type": "code",
   "execution_count": 1046,
   "outputs": [
    {
     "data": {
      "text/plain": "<Figure size 432x288 with 0 Axes>"
     },
     "metadata": {},
     "output_type": "display_data"
    },
    {
     "data": {
      "text/plain": "<Figure size 1080x720 with 1 Axes>",
      "image/png": "[encoded data removed]"
     },
     "metadata": {},
     "output_type": "display_data"
    }
   ],
   "source": [
    "plt.figure()\n",
    "plt.figure(figsize = (15,10))\n",
    "plt.title('Linear regression model - Predicted ELO vs ELO (Normalized)', fontsize = 25)\n",
    "sns.regplot(x = white_test_elo, y = y_pred, line_kws = {'label':f'Mean Squared Error: {mse_lin:4f}'})\n",
    "plt.xlabel('ELO rating (Normalized)', fontsize = 20)\n",
    "plt.ylabel('Predicted ELO rating  (Normalized)', fontsize = 20)\n",
    "plt.legend(prop={'size': 15})\n",
    "plt.savefig('images/NN_linreg_acc.png')"
   ],
   "metadata": {
    "collapsed": false
   }
  },
  {
   "cell_type": "code",
   "execution_count": 1047,
   "outputs": [
    {
     "data": {
      "text/plain": "(array([ 54.,  29.,  55., 137., 137.,  37.,   6.,   1.,   0.,   1.]),\n array([-2.21181915, -1.56410739, -0.91639563, -0.26868387,  0.37902789,\n         1.02673965,  1.67445141,  2.32216316,  2.96987492,  3.61758668,\n         4.26529844]),\n <BarContainer object of 10 artists>)"
     },
     "execution_count": 1047,
     "metadata": {},
     "output_type": "execute_result"
    },
    {
     "data": {
      "text/plain": "<Figure size 432x288 with 1 Axes>",
      "image/png": "[encoded data removed]"
     },
     "metadata": {},
     "output_type": "display_data"
    }
   ],
   "source": [
    "plt.hist(white_elo_transformed)"
   ],
   "metadata": {
    "collapsed": false
   }
  },
  {
   "cell_type": "code",
   "execution_count": 1048,
   "outputs": [
    {
     "data": {
      "text/plain": "(array([  2.,   1.,   1.,   7.,  12.,   7.,  17.,  32., 250., 128.]),\n array([-6.22395529, -5.47940955, -4.73486382, -3.99031808, -3.24577234,\n        -2.5012266 , -1.75668087, -1.01213513, -0.26758939,  0.47695635,\n         1.22150208]),\n <BarContainer object of 10 artists>)"
     },
     "execution_count": 1048,
     "metadata": {},
     "output_type": "execute_result"
    },
    {
     "data": {
      "text/plain": "<Figure size 432x288 with 1 Axes>",
      "image/png": "[encoded data removed]"
     },
     "metadata": {},
     "output_type": "display_data"
    }
   ],
   "source": [
    "plt.hist(normalize(white_elo_arr))"
   ],
   "metadata": {
    "collapsed": false
   }
  },
  {
   "cell_type": "code",
   "execution_count": 1049,
   "metadata": {},
   "outputs": [],
   "source": [
    "# zipping the elo together with the evaluations\n",
    "# train_data_zip = list(zip(white_eval_train, black_eval_train, white_train))\n",
    "# test_data_zip = list(zip(white_eval_test, black_eval_test, white_test))\n",
    "\n",
    "train_data_zip = list(zip(white_eval_train, white_train))\n",
    "test_data_zip = list(zip(white_eval_test, white_test))"
   ]
  },
  {
   "cell_type": "code",
   "execution_count": 1050,
   "metadata": {},
   "outputs": [],
   "source": [
    "black_elo = torch.stack(black_elo)\n",
    "white_elo = torch.stack(white_elo)"
   ]
  },
  {
   "cell_type": "markdown",
   "metadata": {},
   "source": [
    "# Creating the Neural Net"
   ]
  },
  {
   "cell_type": "code",
   "execution_count": 1051,
   "metadata": {},
   "outputs": [],
   "source": [
    "class MyRNN(nn.Module):\n",
    "    def __init__(self, input_size, hidden_size, no_layers):\n",
    "        super(MyRNN, self).__init__()\n",
    "        self.hidden_size = hidden_size\n",
    "        self.no_layers = no_layers\n",
    "        self.rnn = nn.RNN(input_size, hidden_size, no_layers, batch_first = True, bias = False)\n",
    "        self.fc = nn.Linear(hidden_size,1, bias = True)\n",
    "        self.final = nn.Tanh()\n",
    "\n",
    "    def forward(self, x):\n",
    "\n",
    "        out, _ = self.rnn(x)\n",
    "        output ,lengths = torch.nn.utils.rnn.pad_packed_sequence(out, batch_first = True)\n",
    "        # shape batches, seq_length, hidden_size\n",
    "\n",
    "\n",
    "        out = [output[e, i-1,:].unsqueeze(0)for e, i in enumerate(lengths)]\n",
    "        out = torch.cat(out, dim = 0)\n",
    "        #print(out.shape)\n",
    "        #print(\"Linear weights\", self.fc.weight)\n",
    "        out = self.fc(out)\n",
    "        out = self.final(out)\n",
    "        #print(out.shape)\n",
    "        out = out[:,0]\n",
    "\n",
    "        return out\n",
    "\n",
    "\n",
    "    #def init_hidden(self):\n",
    "    #    return nn.init.kaiming_uniform_(torch.empty(1, self.hidden_size))\n",
    "\n",
    "# need\n",
    "# to figure out exactly how the dimensions changed\n"
   ]
  },
  {
   "cell_type": "code",
   "execution_count": 1052,
   "metadata": {},
   "outputs": [],
   "source": [
    "class MyCollator(object):\n",
    "    '''\n",
    "    Yields a batch from a list of Items\n",
    "    Args:\n",
    "    test : Set True when using with test data loader. Defaults to False\n",
    "    percentile : Trim sequences by this percentile\n",
    "    '''\n",
    "\n",
    "    # remove that eventually. I'm going to need to make my dataset a tuple with evals and elo\n",
    "    #def __init__(self):\n",
    "\n",
    "    def __call__(self, batch):\n",
    "        white_data = [item[0] for item in batch]\n",
    "        #black_data = [item[1] for item in batch]\n",
    "        target = [item[1] for item in batch]\n",
    "        white_lens = [i.shape[0] for i in white_data]\n",
    "        #black_lens = [i.shape[0] for i in black_data]\n",
    "\n",
    "\n",
    "        white_data = torch.nn.utils.rnn.pad_sequence(white_data, batch_first=True,padding_value = 0)\n",
    "        white_evals_packed = torch.nn.utils.rnn.pack_padded_sequence(white_data,batch_first = True, lengths=white_lens,enforce_sorted=False)\n",
    "\n",
    "        # black_data = torch.nn.utils.rnn.pad_sequence(black_data, batch_first=True,padding_value = 0)\n",
    "        # black_evals_packed = torch.nn.utils.rnn.pack_padded_sequence(black_data,batch_first = True, lengths=black_lens,enforce_sorted=False)\n",
    "\n",
    "\n",
    "        target = torch.tensor(target,dtype=torch.float32)\n",
    "        return [white_evals_packed, target]"
   ]
  },
  {
   "cell_type": "code",
   "execution_count": 1053,
   "metadata": {},
   "outputs": [],
   "source": [
    "input_size = 2\n",
    "hidden_size = 45\n",
    "no_layers = 10\n",
    "batch_size = 4"
   ]
  },
  {
   "cell_type": "code",
   "execution_count": 1054,
   "metadata": {},
   "outputs": [],
   "source": [
    "# (defining my model)\n",
    "model = MyRNN(input_size, hidden_size, no_layers)\n",
    "collate = MyCollator()"
   ]
  },
  {
   "cell_type": "code",
   "execution_count": 1055,
   "metadata": {},
   "outputs": [
    {
     "name": "stdout",
     "output_type": "stream",
     "text": [
      "<bound method Module.parameters of MyRNN(\n",
      "  (rnn): RNN(2, 45, num_layers=10, bias=False, batch_first=True)\n",
      "  (fc): Linear(in_features=45, out_features=1, bias=True)\n",
      "  (final): Tanh()\n",
      ")>\n"
     ]
    }
   ],
   "source": [
    "print(model.parameters)"
   ]
  },
  {
   "cell_type": "markdown",
   "metadata": {},
   "source": [
    "# Training the model"
   ]
  },
  {
   "cell_type": "code",
   "execution_count": 1056,
   "outputs": [],
   "source": [
    "writer = SummaryWriter('runs/h45l4-2')"
   ],
   "metadata": {
    "collapsed": false
   }
  },
  {
   "cell_type": "code",
   "execution_count": 1057,
   "outputs": [],
   "source": [
    "# # add to loop\n",
    "# running_loss  = 0\n",
    "# running_loss += loss.item()\n",
    "# writer.add_scalar('training loss', running_loss / 100, epoch * n_total_steps +i)\n",
    "# writer.add_scalar('accuracy', running_loss / 100, epoch * n_total_steps +i)"
   ],
   "metadata": {
    "collapsed": false
   }
  },
  {
   "cell_type": "code",
   "execution_count": 1058,
   "metadata": {},
   "outputs": [],
   "source": [
    "data_loader = torch.utils.data.DataLoader(train_data_zip, batch_size=batch_size, shuffle=True ,collate_fn=collate)"
   ]
  },
  {
   "cell_type": "code",
   "execution_count": 1059,
   "metadata": {},
   "outputs": [],
   "source": [
    "learning_rate = .2"
   ]
  },
  {
   "cell_type": "code",
   "execution_count": 1060,
   "metadata": {},
   "outputs": [],
   "source": [
    "device = 'cuda' if torch.cuda.is_available() else 'cpu'"
   ]
  },
  {
   "cell_type": "code",
   "execution_count": 1061,
   "metadata": {},
   "outputs": [],
   "source": [
    "criterion = nn.MSELoss()\n",
    "optimizer = torch.optim.SGD(model.parameters(), lr = learning_rate)"
   ]
  },
  {
   "cell_type": "code",
   "execution_count": 1062,
   "metadata": {},
   "outputs": [],
   "source": [
    "# OK I've figured out the issue, I also need the sequence length for the RNN"
   ]
  },
  {
   "cell_type": "code",
   "execution_count": 1063,
   "metadata": {},
   "outputs": [
    {
     "name": "stdout",
     "output_type": "stream",
     "text": [
      "Epoch 1 step 93 - Learning Rate : 0.2- Avg Loss: 1.021704 - Change in loss: 1.0217041135158227\n"
     ]
    },
    {
     "ename": "KeyboardInterrupt",
     "evalue": "",
     "output_type": "error",
     "traceback": [
      "\u001B[1;31m---------------------------------------------------------------------------\u001B[0m",
      "\u001B[1;31mKeyboardInterrupt\u001B[0m                         Traceback (most recent call last)",
      "Input \u001B[1;32mIn [1063]\u001B[0m, in \u001B[0;36m<module>\u001B[1;34m\u001B[0m\n\u001B[0;32m     22\u001B[0m \u001B[38;5;66;03m# optimizing\u001B[39;00m\n\u001B[0;32m     23\u001B[0m optimizer\u001B[38;5;241m.\u001B[39mzero_grad()\n\u001B[1;32m---> 24\u001B[0m \u001B[43mloss\u001B[49m\u001B[38;5;241;43m.\u001B[39;49m\u001B[43mbackward\u001B[49m\u001B[43m(\u001B[49m\u001B[43m)\u001B[49m\n\u001B[0;32m     25\u001B[0m optimizer\u001B[38;5;241m.\u001B[39mstep()\n\u001B[0;32m     26\u001B[0m losses\u001B[38;5;241m.\u001B[39mappend(loss\u001B[38;5;241m.\u001B[39mitem())\n",
      "File \u001B[1;32m~\\AppData\\Local\\Programs\\Python\\Python310\\lib\\site-packages\\torch\\_tensor.py:488\u001B[0m, in \u001B[0;36mTensor.backward\u001B[1;34m(self, gradient, retain_graph, create_graph, inputs)\u001B[0m\n\u001B[0;32m    478\u001B[0m \u001B[38;5;28;01mif\u001B[39;00m has_torch_function_unary(\u001B[38;5;28mself\u001B[39m):\n\u001B[0;32m    479\u001B[0m     \u001B[38;5;28;01mreturn\u001B[39;00m handle_torch_function(\n\u001B[0;32m    480\u001B[0m         Tensor\u001B[38;5;241m.\u001B[39mbackward,\n\u001B[0;32m    481\u001B[0m         (\u001B[38;5;28mself\u001B[39m,),\n\u001B[1;32m   (...)\u001B[0m\n\u001B[0;32m    486\u001B[0m         inputs\u001B[38;5;241m=\u001B[39minputs,\n\u001B[0;32m    487\u001B[0m     )\n\u001B[1;32m--> 488\u001B[0m \u001B[43mtorch\u001B[49m\u001B[38;5;241;43m.\u001B[39;49m\u001B[43mautograd\u001B[49m\u001B[38;5;241;43m.\u001B[39;49m\u001B[43mbackward\u001B[49m\u001B[43m(\u001B[49m\n\u001B[0;32m    489\u001B[0m \u001B[43m    \u001B[49m\u001B[38;5;28;43mself\u001B[39;49m\u001B[43m,\u001B[49m\u001B[43m \u001B[49m\u001B[43mgradient\u001B[49m\u001B[43m,\u001B[49m\u001B[43m \u001B[49m\u001B[43mretain_graph\u001B[49m\u001B[43m,\u001B[49m\u001B[43m \u001B[49m\u001B[43mcreate_graph\u001B[49m\u001B[43m,\u001B[49m\u001B[43m \u001B[49m\u001B[43minputs\u001B[49m\u001B[38;5;241;43m=\u001B[39;49m\u001B[43minputs\u001B[49m\n\u001B[0;32m    490\u001B[0m \u001B[43m\u001B[49m\u001B[43m)\u001B[49m\n",
      "File \u001B[1;32m~\\AppData\\Local\\Programs\\Python\\Python310\\lib\\site-packages\\torch\\autograd\\__init__.py:197\u001B[0m, in \u001B[0;36mbackward\u001B[1;34m(tensors, grad_tensors, retain_graph, create_graph, grad_variables, inputs)\u001B[0m\n\u001B[0;32m    192\u001B[0m     retain_graph \u001B[38;5;241m=\u001B[39m create_graph\n\u001B[0;32m    194\u001B[0m \u001B[38;5;66;03m# The reason we repeat same the comment below is that\u001B[39;00m\n\u001B[0;32m    195\u001B[0m \u001B[38;5;66;03m# some Python versions print out the first line of a multi-line function\u001B[39;00m\n\u001B[0;32m    196\u001B[0m \u001B[38;5;66;03m# calls in the traceback and some print out the last line\u001B[39;00m\n\u001B[1;32m--> 197\u001B[0m \u001B[43mVariable\u001B[49m\u001B[38;5;241;43m.\u001B[39;49m\u001B[43m_execution_engine\u001B[49m\u001B[38;5;241;43m.\u001B[39;49m\u001B[43mrun_backward\u001B[49m\u001B[43m(\u001B[49m\u001B[43m  \u001B[49m\u001B[38;5;66;43;03m# Calls into the C++ engine to run the backward pass\u001B[39;49;00m\n\u001B[0;32m    198\u001B[0m \u001B[43m    \u001B[49m\u001B[43mtensors\u001B[49m\u001B[43m,\u001B[49m\u001B[43m \u001B[49m\u001B[43mgrad_tensors_\u001B[49m\u001B[43m,\u001B[49m\u001B[43m \u001B[49m\u001B[43mretain_graph\u001B[49m\u001B[43m,\u001B[49m\u001B[43m \u001B[49m\u001B[43mcreate_graph\u001B[49m\u001B[43m,\u001B[49m\u001B[43m \u001B[49m\u001B[43minputs\u001B[49m\u001B[43m,\u001B[49m\n\u001B[0;32m    199\u001B[0m \u001B[43m    \u001B[49m\u001B[43mallow_unreachable\u001B[49m\u001B[38;5;241;43m=\u001B[39;49m\u001B[38;5;28;43;01mTrue\u001B[39;49;00m\u001B[43m,\u001B[49m\u001B[43m \u001B[49m\u001B[43maccumulate_grad\u001B[49m\u001B[38;5;241;43m=\u001B[39;49m\u001B[38;5;28;43;01mTrue\u001B[39;49;00m\u001B[43m)\u001B[49m\n",
      "\u001B[1;31mKeyboardInterrupt\u001B[0m: "
     ]
    }
   ],
   "source": [
    "avg_losses = []\n",
    "epochs = []\n",
    "avg_loss = 1\n",
    "\n",
    "for epoch in range(20):\n",
    "\n",
    "    if (epoch+1) % 3 ==0:\n",
    "        learning_rate /= 2\n",
    "        optimizer = torch.optim.SGD(model.parameters(), lr = learning_rate)\n",
    "\n",
    "    losses = []\n",
    "\n",
    "    i = 0\n",
    "    for white_evals, elo in data_loader:\n",
    "        white_evals = white_evals.to(device)\n",
    "        #black_evals = black_evals.to(device)\n",
    "        elo = elo.to(device)\n",
    "        outputs = model(white_evals)\n",
    "        #print(outputs)\n",
    "        #print(outputs.shape, elo.shape)\n",
    "        loss = criterion(outputs,elo)\n",
    "        # optimizing\n",
    "        optimizer.zero_grad()\n",
    "        loss.backward()\n",
    "        optimizer.step()\n",
    "        losses.append(loss.item())\n",
    "        i+=1\n",
    "\n",
    "    change = stats.mean(losses)/avg_loss\n",
    "    avg_loss = stats.mean(losses)\n",
    "\n",
    "    # adding histograms to the summary writer\n",
    "    for name, param in model.named_parameters():\n",
    "        writer.add_histogram(name, np.array(param.detach().tolist()), epoch)\n",
    "\n",
    "    # adding loss\n",
    "    writer.add_scalar('Average loss',avg_loss, epoch)\n",
    "    avg_losses.append(avg_loss)\n",
    "    epochs.append(epoch)\n",
    "    print(f'Epoch {epoch+1} step {i+1} - Learning Rate : {learning_rate}- Avg Loss: {avg_loss:3f} - Change in loss: {change}')\n",
    "\n",
    "\n",
    "writer.close()"
   ]
  },
  {
   "cell_type": "code",
   "execution_count": null,
   "metadata": {},
   "outputs": [],
   "source": [
    "plt.scatter(epochs, avg_losses)"
   ]
  },
  {
   "cell_type": "markdown",
   "metadata": {},
   "source": [
    "## Test data"
   ]
  },
  {
   "cell_type": "code",
   "execution_count": null,
   "outputs": [],
   "source": [
    "model =model.eval()"
   ],
   "metadata": {
    "collapsed": false
   }
  },
  {
   "cell_type": "code",
   "execution_count": null,
   "metadata": {},
   "outputs": [],
   "source": [
    "model.to(device)"
   ]
  },
  {
   "cell_type": "code",
   "execution_count": null,
   "metadata": {},
   "outputs": [],
   "source": [
    "test_data_loader = torch.utils.data.DataLoader(test_data_zip, batch_size=1, shuffle=False ,collate_fn=collate)"
   ]
  },
  {
   "cell_type": "code",
   "execution_count": null,
   "metadata": {},
   "outputs": [],
   "source": [
    "losses = []\n",
    "outputs = []\n",
    "elos = []\n",
    "for evals, elo in test_data_loader:\n",
    "    #print(\"evals\",evals.shape)\n",
    "    evals = evals.to(device)\n",
    "    elo = elo.to(device)\n",
    "    output = model(evals)\n",
    "    outputs.append(output.item())\n",
    "    elos.append(elo.item())\n",
    "    loss = criterion(output,elo)\n",
    "    #print(f'Model prediction : {output} \\n ELO : {elo} \\n MSE : {loss}')\n",
    "    losses.append(loss.item())\n",
    "print(f'Average loss : {stats.mean(losses)}')"
   ]
  },
  {
   "cell_type": "code",
   "execution_count": null,
   "outputs": [],
   "source": [
    "plt.scatter(elos, outputs)"
   ],
   "metadata": {
    "collapsed": false
   }
  },
  {
   "cell_type": "code",
   "execution_count": null,
   "metadata": {},
   "outputs": [],
   "source": [
    "model(evals)"
   ]
  },
  {
   "cell_type": "code",
   "execution_count": null,
   "outputs": [],
   "source": [
    "print(elos)"
   ],
   "metadata": {
    "collapsed": false
   }
  },
  {
   "cell_type": "code",
   "execution_count": null,
   "outputs": [],
   "source": [
    "elos = np.array(elos)\n",
    "elos = np.reshape(elos, (len(elos),1))\n",
    "\n",
    "outputs = np.array(outputs)\n",
    "outputs = np.reshape(outputs, (len(outputs),1))"
   ],
   "metadata": {
    "collapsed": false
   }
  },
  {
   "cell_type": "code",
   "execution_count": null,
   "outputs": [],
   "source": [
    "#elos = welopt.inverse_transform(elos)\n",
    "#outputs = welopt.inverse_transform(outputs)"
   ],
   "metadata": {
    "collapsed": false
   }
  },
  {
   "cell_type": "code",
   "execution_count": null,
   "outputs": [],
   "source": [
    "mse_model = mean_squared_error(elos,outputs)"
   ],
   "metadata": {
    "collapsed": false
   }
  },
  {
   "cell_type": "code",
   "execution_count": null,
   "outputs": [],
   "source": [
    "# de-normalize the elos - predicted and actual"
   ],
   "metadata": {
    "collapsed": false
   }
  },
  {
   "cell_type": "code",
   "execution_count": null,
   "outputs": [],
   "source": [
    "plt.figure(figsize = (15,10))\n",
    "plt.title('Neural Network - Predicted ELO vs ELO', fontsize = 25)\n",
    "sns.regplot(x = elos, y = outputs, color ='green', line_kws = {'label':f'Mean Squared Error: {mse_model:4f}'})\n",
    "plt.xlabel('ELO rating  (Normalized)', fontsize = 20)\n",
    "plt.ylabel('Predicted ELO rating (Normalized)', fontsize = 20)\n",
    "plt.legend(prop={'size': 15})\n",
    "plt.savefig('images/NN_model_acc.png')"
   ],
   "metadata": {
    "collapsed": false
   }
  },
  {
   "cell_type": "code",
   "execution_count": null,
   "metadata": {},
   "outputs": [],
   "source": [
    "sns.regplot(elos,outputs)"
   ]
  },
  {
   "cell_type": "markdown",
   "metadata": {},
   "source": [
    "# Plotting the neural net architecture"
   ]
  },
  {
   "cell_type": "code",
   "execution_count": null,
   "metadata": {},
   "outputs": [],
   "source": [
    "print(max(outputs))\n",
    "print(min(outputs))"
   ]
  },
  {
   "cell_type": "code",
   "execution_count": null,
   "outputs": [],
   "source": [
    "# Use torch.jit.trace to generate a torch.jit.ScriptModule via tracing.\n",
    "#traced_script_module = torch.jit.trace(model, example)"
   ],
   "metadata": {
    "collapsed": false
   }
  },
  {
   "cell_type": "code",
   "execution_count": null,
   "outputs": [],
   "source": [
    "params =dict(model.named_parameters())"
   ],
   "metadata": {
    "collapsed": false
   }
  },
  {
   "cell_type": "code",
   "execution_count": null,
   "outputs": [],
   "source": [
    "dot = make_dot(output, params=params, show_attrs=False, show_saved=False)"
   ],
   "metadata": {
    "collapsed": false
   }
  },
  {
   "cell_type": "code",
   "execution_count": null,
   "outputs": [],
   "source": [
    "#dot.render(\"rnn_torchviz3\", format=\"pdf\", engine= 'neato') # doesn't seem to work great with padded & packed input..."
   ],
   "metadata": {
    "collapsed": false
   }
  }
 ],
 "metadata": {
  "kernelspec": {
   "display_name": "Python 3 (ipykernel)",
   "language": "python",
   "name": "python3"
  },
  "language_info": {
   "codemirror_mode": {
    "name": "ipython",
    "version": 2
   },
   "file_extension": ".py",
   "mimetype": "text/x-python",
   "name": "python",
   "nbconvert_exporter": "python",
   "pygments_lexer": "ipython2",
   "version": "2.7.6"
  }
 },
 "nbformat": 4,
 "nbformat_minor": 1
}
