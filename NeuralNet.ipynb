{
 "cells": [
  {
   "cell_type": "code",
   "execution_count": 784,
   "metadata": {},
   "outputs": [],
   "source": [
    "import pandas as pd\n",
    "import numpy as np\n",
    "from torch import nn\n",
    "from sklearn.preprocessing import PowerTransformer\n",
    "from torchviz import make_dot\n",
    "from itertools import islice\n",
    "import torch\n",
    "import numpy\n",
    "from sklearn.model_selection import train_test_split\n",
    "import statistics as stats\n",
    "import matplotlib.pyplot as plt\n",
    "from torch.utils.tensorboard import SummaryWriter\n",
    "import hiddenlayer as hl\n",
    "import graphviz"
   ]
  },
  {
   "cell_type": "code",
   "execution_count": 785,
   "outputs": [],
   "source": [
    "g = graphviz.Graph(engine='neato')"
   ],
   "metadata": {
    "collapsed": false
   }
  },
  {
   "cell_type": "markdown",
   "metadata": {},
   "source": [
    "# Importing the data"
   ]
  },
  {
   "cell_type": "code",
   "execution_count": 786,
   "metadata": {},
   "outputs": [],
   "source": [
    "def to_list(str):\n",
    "    '''\n",
    "    :param str: string representing a list of centipawn losses\n",
    "    :return: list of integer centipawn losses\n",
    "    '''\n",
    "    string = str.replace('[','').replace(']','')\n",
    "    ls = string.split(',')\n",
    "    list = [int(i) for i in ls]\n",
    "\n",
    "    return list"
   ]
  },
  {
   "cell_type": "code",
   "execution_count": 787,
   "metadata": {},
   "outputs": [],
   "source": [
    "def process(eval):\n",
    "    '''\n",
    "    :param eval: list of integer centipawn losses\n",
    "    :return: array of lists of [evaluation, centipawn loss]\n",
    "    '''\n",
    "\n",
    "    # starting evaluation of 30 centipawns\n",
    "    sum = 30\n",
    "\n",
    "    i = 0\n",
    "    res = []\n",
    "\n",
    "    # iterating through centipawn losses\n",
    "    for cpl in eval:\n",
    "\n",
    "        # subtracting the cpl for white's moves\n",
    "        if i % 2 ==0:\n",
    "            res.append([sum,cpl])\n",
    "            sum -= cpl\n",
    "            i += 1\n",
    "\n",
    "        # adding the cpl for black's moves\n",
    "        else:\n",
    "            sum+=cpl\n",
    "            i+=1\n",
    "\n",
    "    return numpy.array(res)"
   ]
  },
  {
   "cell_type": "code",
   "execution_count": 788,
   "metadata": {},
   "outputs": [
    {
     "name": "stdout",
     "output_type": "stream",
     "text": [
      "Total  games: 4210\n",
      "Evaluted games: 434\n"
     ]
    }
   ],
   "source": [
    "# reading *some* of the data\n",
    "dfs = []\n",
    "\n",
    "players = ['andreikin, dmitry', 'anand, viswanathan', 'wang, hao', 'grischuk, alexander', 'karjakin, sergey','duda, jan-krzysztof', 'radjabov, teimour', 'dominguez perez, leinier','nakamura, hikaru', 'vachier-lagrave, maxime','aronian, levon','mamedyarov, shakhriyar', 'so, wesley','ding, liren', 'rapport, richard', 'nepomniachtchi, ian', 'giri, anish', 'firouzja, alireza', 'caruana, fabiano','carlsen, magnus','zelcic, robert','khotenashvili, bela', 'bischoff, klaus', 'hoffmann, asa','kaufman, lawrence','bellaiche, elise']\n",
    "\n",
    "# reading the csvs\n",
    "for player in players:\n",
    "    df = pd.read_csv('blitz/'+player +'.csv')\n",
    "    dfs.append(df)\n",
    "df = pd.concat(dfs)\n",
    "\n",
    "\n",
    "print(f\"Total  games: {len(df)}\")\n",
    "\n",
    "# Filtering out * values\n",
    "df = df[df['WhiteELO'] != '*']\n",
    "df = df[df['BlackELO'] != '*']\n",
    "df[['WhiteELO', 'BlackELO']] = df[['WhiteELO', 'BlackELO']] .astype(int)\n",
    "\n",
    "df = df[df['Eval'] != '']\n",
    "df = df[ df['Eval'].apply(lambda x: isinstance(x, str))]\n",
    "\n",
    "\n",
    "# converting the evaluation to a list\n",
    "df['Eval'] = df['Eval'].apply( to_list)\n",
    "df['Eval'] = df['Eval'].apply( process )\n",
    "\n",
    "print(f\"Evaluted games: {len(df['Eval'])}\")"
   ]
  },
  {
   "cell_type": "code",
   "execution_count": 789,
   "metadata": {},
   "outputs": [],
   "source": [
    "x = numpy.array(df['Eval'])\n",
    "length = numpy.array(df['Eval'].apply(len))"
   ]
  },
  {
   "cell_type": "code",
   "execution_count": 790,
   "metadata": {},
   "outputs": [],
   "source": [
    "# creating and fitting a power transformer\n",
    "pt = PowerTransformer()\n",
    "y = numpy.concatenate(x)\n",
    "pt.fit(y)\n",
    "transformed = pt.transform(y)"
   ]
  },
  {
   "cell_type": "code",
   "execution_count": 791,
   "metadata": {},
   "outputs": [],
   "source": [
    "# need a function now to (effieciently) change these to lists of length list\n",
    "transformed_array = [numpy.array(list(islice(iter(transformed), elem)))\n",
    "        for elem in length]"
   ]
  },
  {
   "cell_type": "code",
   "execution_count": 792,
   "metadata": {},
   "outputs": [
    {
     "name": "stdout",
     "output_type": "stream",
     "text": [
      "Unique evaluated games: 422\n"
     ]
    }
   ],
   "source": [
    "print(f\"Unique evaluated games: {df['Game'].nunique()}\")"
   ]
  },
  {
   "cell_type": "markdown",
   "metadata": {},
   "source": [
    "# Preparing the data for the Neural Net"
   ]
  },
  {
   "cell_type": "code",
   "execution_count": 793,
   "metadata": {},
   "outputs": [],
   "source": [
    "# converting evaluations and length to tensors\n",
    "evals = [torch.tensor(i, dtype = torch.float32) for i in transformed_array]\n",
    "lengths = [len(tensor) for tensor in evals]"
   ]
  },
  {
   "cell_type": "code",
   "execution_count": 794,
   "metadata": {},
   "outputs": [],
   "source": [
    "# Padding my sequences - not sure why batch first works, but it does\n",
    "#inputs = torch.nn.utils.rnn.pad_sequence(evals, batch_first=True, padding_value=0.0)"
   ]
  },
  {
   "cell_type": "code",
   "execution_count": 795,
   "metadata": {},
   "outputs": [],
   "source": [
    "#inputs_array = numpy.array(inputs.tolist())"
   ]
  },
  {
   "cell_type": "code",
   "execution_count": 796,
   "metadata": {},
   "outputs": [],
   "source": [
    "#print(inputs.shape)"
   ]
  },
  {
   "cell_type": "code",
   "execution_count": 797,
   "metadata": {},
   "outputs": [],
   "source": [
    "#inputs_list =inputs.tolist()\n",
    "\n",
    "# normalizing... a bit hacky\n",
    "#inputs_array = (numpy.array(inputs_list) - numpy.array(inputs_list).mean())/ numpy.linalg.norm(numpy.array(inputs_list))"
   ]
  },
  {
   "cell_type": "code",
   "execution_count": 798,
   "metadata": {},
   "outputs": [],
   "source": [
    "def normalize(array):\n",
    "    '''\n",
    "    :param array:\n",
    "    :return:\n",
    "    '''\n",
    "    return (array - array.mean())/array.std()\n",
    "\n",
    "def denormalize(array, value):\n",
    "    '''\n",
    "    :param array:\n",
    "    :param value:\n",
    "    :return:\n",
    "    '''\n",
    "    return value*array.std() + array.mean()"
   ]
  },
  {
   "cell_type": "code",
   "execution_count": 799,
   "metadata": {},
   "outputs": [],
   "source": [
    "#print(df['WhiteELO'].value_counts())"
   ]
  },
  {
   "cell_type": "code",
   "execution_count": 800,
   "metadata": {},
   "outputs": [],
   "source": [
    "# Converting White and Black's ELOs to tensors\n",
    "white_elo_arr = numpy.array(df['WhiteELO'])\n",
    "\n",
    "white_elo = normalize(white_elo_arr)\n",
    "\n",
    "#print(white_elo)\n",
    "white_elo = [torch.tensor(i, dtype = torch.float32) for i in white_elo]\n",
    "\n",
    "\n",
    "\n",
    "black_elo = numpy.array(df['BlackELO'])\n",
    "black_elo = [torch.tensor(i, dtype = torch.float32) for i in black_elo]\n",
    "\n",
    "\n",
    "# splitting into train and test\n",
    "lengths_train, lengths_test,eval_train, eval_test, black_train, black_test, white_train, white_test  = train_test_split(lengths, evals, black_elo, white_elo, test_size=0.2,random_state=0, shuffle = True)\n"
   ]
  },
  {
   "cell_type": "code",
   "execution_count": 801,
   "metadata": {},
   "outputs": [],
   "source": [
    "# zipping the elo together with the evaluations\n",
    "train_data_zip = list(zip(eval_train, white_train))\n",
    "test_data_zip = list(zip(eval_test, white_test))"
   ]
  },
  {
   "cell_type": "code",
   "execution_count": 802,
   "metadata": {},
   "outputs": [],
   "source": [
    "black_elo = torch.stack(black_elo)\n",
    "white_elo = torch.stack(white_elo)"
   ]
  },
  {
   "cell_type": "markdown",
   "metadata": {},
   "source": [
    "# Creating the Neural Net"
   ]
  },
  {
   "cell_type": "code",
   "execution_count": 803,
   "metadata": {},
   "outputs": [],
   "source": [
    "class MyRNN(nn.Module):\n",
    "    def __init__(self, input_size, hidden_size, no_layers):\n",
    "        super(MyRNN, self).__init__()\n",
    "        self.hidden_size = hidden_size\n",
    "        self.no_layers = no_layers\n",
    "        self.rnn = nn.RNN(input_size, hidden_size, no_layers, batch_first = True, bias = True)\n",
    "        self.fc = nn.Linear(hidden_size,1, bias = False)\n",
    "        self.final = nn.Tanh()\n",
    "\n",
    "    def forward(self, x):\n",
    "\n",
    "        out, _ = self.rnn(x)\n",
    "        output ,lengths = torch.nn.utils.rnn.pad_packed_sequence(out, batch_first = True)\n",
    "        # shape batches, seq_length, hidden_size\n",
    "\n",
    "\n",
    "        out = [output[e, i-1,:].unsqueeze(0)for e, i in enumerate(lengths)]\n",
    "        out = torch.cat(out, dim = 0)\n",
    "        #print(out.shape)\n",
    "        #print(\"Linear weights\", self.fc.weight)\n",
    "        out = self.fc(out)\n",
    "        out = self.final(out)\n",
    "        #print(out.shape)\n",
    "        out = out[:,0]\n",
    "\n",
    "        return out\n",
    "\n",
    "\n",
    "    #def init_hidden(self):\n",
    "    #    return nn.init.kaiming_uniform_(torch.empty(1, self.hidden_size))\n",
    "\n",
    "# need to figure out exactly how the dimensions changed\n"
   ]
  },
  {
   "cell_type": "code",
   "execution_count": 804,
   "metadata": {},
   "outputs": [],
   "source": [
    "class MyCollator(object):\n",
    "    '''\n",
    "    Yields a batch from a list of Items\n",
    "    Args:\n",
    "    test : Set True when using with test data loader. Defaults to False\n",
    "    percentile : Trim sequences by this percentile\n",
    "    '''\n",
    "\n",
    "    # remove that eventually. I'm going to need to make my dataset a tuple with evals and elo\n",
    "    #def __init__(self):\n",
    "\n",
    "    def __call__(self, batch):\n",
    "        data = [item[0] for item in batch]\n",
    "        target = [item[1] for item in batch]\n",
    "        lens = [i.shape[0] for i in data]\n",
    "\n",
    "        #print(lens)\n",
    "        data = torch.nn.utils.rnn.pad_sequence(data, batch_first=True,padding_value = 0)\n",
    "        #data = data.unsqueeze(2)\n",
    "        #print(\"PADDED\",data)\n",
    "        evals_packed = torch.nn.utils.rnn.pack_padded_sequence(data,batch_first = True, lengths=lens,enforce_sorted=False)\n",
    "\n",
    "        target = torch.tensor(target,dtype=torch.float32)\n",
    "        return [evals_packed,target]"
   ]
  },
  {
   "cell_type": "code",
   "execution_count": 805,
   "metadata": {},
   "outputs": [],
   "source": [
    "input_size = 2\n",
    "hidden_size = 45\n",
    "no_layers = 4\n",
    "batch_size = 5"
   ]
  },
  {
   "cell_type": "code",
   "execution_count": 806,
   "metadata": {},
   "outputs": [],
   "source": [
    "# (defining my model)\n",
    "model = MyRNN(input_size, hidden_size, no_layers)\n",
    "collate = MyCollator()"
   ]
  },
  {
   "cell_type": "code",
   "execution_count": 807,
   "metadata": {},
   "outputs": [
    {
     "name": "stdout",
     "output_type": "stream",
     "text": [
      "<bound method Module.parameters of MyRNN(\n",
      "  (rnn): RNN(2, 45, num_layers=4, batch_first=True)\n",
      "  (fc): Linear(in_features=45, out_features=1, bias=False)\n",
      "  (final): Tanh()\n",
      ")>\n"
     ]
    }
   ],
   "source": [
    "print(model.parameters)"
   ]
  },
  {
   "cell_type": "markdown",
   "metadata": {},
   "source": [
    "# Training the model"
   ]
  },
  {
   "cell_type": "code",
   "execution_count": 808,
   "outputs": [],
   "source": [
    "writer = SummaryWriter('runs/h45l4-2')"
   ],
   "metadata": {
    "collapsed": false
   }
  },
  {
   "cell_type": "code",
   "execution_count": 809,
   "outputs": [],
   "source": [
    "# # add to loop\n",
    "# running_loss  = 0\n",
    "# running_loss += loss.item()\n",
    "# writer.add_scalar('training loss', running_loss / 100, epoch * n_total_steps +i)\n",
    "# writer.add_scalar('accuracy', running_loss / 100, epoch * n_total_steps +i)"
   ],
   "metadata": {
    "collapsed": false
   }
  },
  {
   "cell_type": "code",
   "execution_count": 810,
   "metadata": {},
   "outputs": [],
   "source": [
    "data_loader = torch.utils.data.DataLoader(train_data_zip, batch_size=batch_size, shuffle=True ,collate_fn=collate)"
   ]
  },
  {
   "cell_type": "code",
   "execution_count": 811,
   "metadata": {},
   "outputs": [],
   "source": [
    "learning_rate = .2"
   ]
  },
  {
   "cell_type": "code",
   "execution_count": 812,
   "metadata": {},
   "outputs": [],
   "source": [
    "device = 'cuda' if torch.cuda.is_available() else 'cpu'"
   ]
  },
  {
   "cell_type": "code",
   "execution_count": 813,
   "metadata": {},
   "outputs": [],
   "source": [
    "criterion = nn.MSELoss()\n",
    "optimizer = torch.optim.SGD(model.parameters(), lr = learning_rate)"
   ]
  },
  {
   "cell_type": "code",
   "execution_count": 814,
   "metadata": {},
   "outputs": [],
   "source": [
    "# OK I've figured out the issue, I also need the sequence length for the RNN"
   ]
  },
  {
   "cell_type": "code",
   "execution_count": 815,
   "metadata": {},
   "outputs": [
    {
     "name": "stdout",
     "output_type": "stream",
     "text": [
      "Epoch 1 step 71 - Learning Rate : 0.2- Avg Loss: 1.014039 - Change in loss: 1.014038607265268\n",
      "Epoch 2 step 71 - Learning Rate : 0.2- Avg Loss: 1.013356 - Change in loss: 0.9993265126804687\n",
      "Epoch 3 step 71 - Learning Rate : 0.2- Avg Loss: 0.972887 - Change in loss: 0.9600646675921398\n",
      "Epoch 4 step 71 - Learning Rate : 0.2- Avg Loss: 0.974905 - Change in loss: 1.002073841084142\n",
      "Epoch 5 step 71 - Learning Rate : 0.2- Avg Loss: 1.087434 - Change in loss: 1.1154260816360735\n",
      "Epoch 6 step 71 - Learning Rate : 0.2- Avg Loss: 0.978146 - Change in loss: 0.8994992475874153\n",
      "Epoch 7 step 71 - Learning Rate : 0.2- Avg Loss: 0.989962 - Change in loss: 1.0120797631120355\n",
      "Epoch 8 step 71 - Learning Rate : 0.2- Avg Loss: 0.963583 - Change in loss: 0.9733535117015311\n",
      "Epoch 9 step 71 - Learning Rate : 0.2- Avg Loss: 0.964566 - Change in loss: 1.0010201011279602\n",
      "Epoch 10 step 71 - Learning Rate : 0.1- Avg Loss: 0.966958 - Change in loss: 1.0024803963334656\n",
      "Epoch 11 step 71 - Learning Rate : 0.1- Avg Loss: 0.964125 - Change in loss: 0.9970701940485563\n",
      "Epoch 12 step 71 - Learning Rate : 0.1- Avg Loss: 0.967193 - Change in loss: 1.0031823735147543\n",
      "Epoch 13 step 71 - Learning Rate : 0.1- Avg Loss: 0.965393 - Change in loss: 0.9981383650991354\n",
      "Epoch 14 step 71 - Learning Rate : 0.1- Avg Loss: 0.965253 - Change in loss: 0.9998550703837371\n",
      "Epoch 15 step 71 - Learning Rate : 0.1- Avg Loss: 0.964535 - Change in loss: 0.9992562245962806\n",
      "Epoch 16 step 71 - Learning Rate : 0.1- Avg Loss: 0.970030 - Change in loss: 1.0056973630123611\n",
      "Epoch 17 step 71 - Learning Rate : 0.1- Avg Loss: 0.965274 - Change in loss: 0.9950969552890364\n",
      "Epoch 18 step 71 - Learning Rate : 0.1- Avg Loss: 1.058281 - Change in loss: 1.0963527793237307\n",
      "Epoch 19 step 71 - Learning Rate : 0.1- Avg Loss: 0.964225 - Change in loss: 0.9111236622779397\n",
      "Epoch 20 step 71 - Learning Rate : 0.05- Avg Loss: 0.960124 - Change in loss: 0.9957467189303003\n",
      "Epoch 21 step 71 - Learning Rate : 0.05- Avg Loss: 0.975774 - Change in loss: 1.0162999889480906\n",
      "Epoch 22 step 71 - Learning Rate : 0.05- Avg Loss: 0.958336 - Change in loss: 0.982129366069613\n",
      "Epoch 23 step 71 - Learning Rate : 0.05- Avg Loss: 0.975983 - Change in loss: 1.0184138167891734\n",
      "Epoch 24 step 71 - Learning Rate : 0.05- Avg Loss: 0.958938 - Change in loss: 0.9825359234451326\n",
      "Epoch 25 step 71 - Learning Rate : 0.05- Avg Loss: 0.958722 - Change in loss: 0.9997741714184107\n",
      "Epoch 26 step 71 - Learning Rate : 0.05- Avg Loss: 0.956719 - Change in loss: 0.9979107013854925\n",
      "Epoch 27 step 71 - Learning Rate : 0.05- Avg Loss: 0.960399 - Change in loss: 1.0038467606035033\n",
      "Epoch 28 step 71 - Learning Rate : 0.05- Avg Loss: 0.951279 - Change in loss: 0.9905042114215242\n",
      "Epoch 29 step 71 - Learning Rate : 0.05- Avg Loss: 0.954616 - Change in loss: 1.0035073984991445\n",
      "Epoch 30 step 71 - Learning Rate : 0.025- Avg Loss: 0.955954 - Change in loss: 1.0014020614606256\n",
      "Epoch 31 step 71 - Learning Rate : 0.025- Avg Loss: 0.950489 - Change in loss: 0.9942832197386193\n",
      "Epoch 32 step 71 - Learning Rate : 0.025- Avg Loss: 0.946422 - Change in loss: 0.995721165662621\n",
      "Epoch 33 step 71 - Learning Rate : 0.025- Avg Loss: 0.963870 - Change in loss: 1.018435409841864\n",
      "Epoch 34 step 71 - Learning Rate : 0.025- Avg Loss: 0.947818 - Change in loss: 0.9833460528293891\n",
      "Epoch 35 step 71 - Learning Rate : 0.025- Avg Loss: 0.949496 - Change in loss: 1.0017704877231128\n",
      "Epoch 36 step 71 - Learning Rate : 0.025- Avg Loss: 0.951980 - Change in loss: 1.0026160768977375\n",
      "Epoch 37 step 71 - Learning Rate : 0.025- Avg Loss: 0.962576 - Change in loss: 1.0111309156268953\n",
      "Epoch 38 step 71 - Learning Rate : 0.025- Avg Loss: 0.947579 - Change in loss: 0.9844203355890646\n",
      "Epoch 39 step 71 - Learning Rate : 0.025- Avg Loss: 0.944587 - Change in loss: 0.996842461608947\n",
      "Epoch 40 step 71 - Learning Rate : 0.0125- Avg Loss: 0.938751 - Change in loss: 0.9938207951535418\n",
      "Epoch 41 step 71 - Learning Rate : 0.0125- Avg Loss: 0.936670 - Change in loss: 0.9977834892401197\n",
      "Epoch 42 step 71 - Learning Rate : 0.0125- Avg Loss: 0.941522 - Change in loss: 1.0051802506885588\n",
      "Epoch 43 step 71 - Learning Rate : 0.0125- Avg Loss: 0.937458 - Change in loss: 0.9956839043960218\n",
      "Epoch 44 step 71 - Learning Rate : 0.0125- Avg Loss: 0.934175 - Change in loss: 0.9964971909541593\n",
      "Epoch 45 step 71 - Learning Rate : 0.0125- Avg Loss: 0.974152 - Change in loss: 1.0427944967058316\n",
      "Epoch 46 step 71 - Learning Rate : 0.0125- Avg Loss: 0.933561 - Change in loss: 0.9583319256050223\n",
      "Epoch 47 step 71 - Learning Rate : 0.0125- Avg Loss: 0.932938 - Change in loss: 0.9993327195941448\n",
      "Epoch 48 step 71 - Learning Rate : 0.0125- Avg Loss: 0.936078 - Change in loss: 1.0033660346370088\n",
      "Epoch 49 step 71 - Learning Rate : 0.0125- Avg Loss: 0.933879 - Change in loss: 0.9976503701242196\n",
      "Epoch 50 step 71 - Learning Rate : 0.00625- Avg Loss: 0.925624 - Change in loss: 0.9911605944425218\n",
      "Epoch 51 step 71 - Learning Rate : 0.00625- Avg Loss: 0.927805 - Change in loss: 1.0023560817896486\n",
      "Epoch 52 step 71 - Learning Rate : 0.00625- Avg Loss: 0.924597 - Change in loss: 0.9965427076745651\n",
      "Epoch 53 step 71 - Learning Rate : 0.00625- Avg Loss: 0.921526 - Change in loss: 0.9966787716609324\n",
      "Epoch 54 step 71 - Learning Rate : 0.00625- Avg Loss: 0.948888 - Change in loss: 1.02969115184028\n",
      "Epoch 55 step 71 - Learning Rate : 0.00625- Avg Loss: 0.923095 - Change in loss: 0.9728178133960225\n",
      "Epoch 56 step 71 - Learning Rate : 0.00625- Avg Loss: 0.921352 - Change in loss: 0.998112403946978\n",
      "Epoch 57 step 71 - Learning Rate : 0.00625- Avg Loss: 0.921900 - Change in loss: 1.0005948776205893\n",
      "Epoch 58 step 71 - Learning Rate : 0.00625- Avg Loss: 0.923963 - Change in loss: 1.0022368863883435\n",
      "Epoch 59 step 71 - Learning Rate : 0.00625- Avg Loss: 0.923790 - Change in loss: 0.9998128353971779\n",
      "Epoch 60 step 71 - Learning Rate : 0.003125- Avg Loss: 0.914074 - Change in loss: 0.9894833265072908\n",
      "Epoch 61 step 71 - Learning Rate : 0.003125- Avg Loss: 0.920326 - Change in loss: 1.0068392444496936\n",
      "Epoch 62 step 71 - Learning Rate : 0.003125- Avg Loss: 0.915042 - Change in loss: 0.9942589006842938\n",
      "Epoch 63 step 71 - Learning Rate : 0.003125- Avg Loss: 0.918739 - Change in loss: 1.0040402215649327\n",
      "Epoch 64 step 71 - Learning Rate : 0.003125- Avg Loss: 0.912226 - Change in loss: 0.9929109810234734\n",
      "Epoch 65 step 71 - Learning Rate : 0.003125- Avg Loss: 0.915007 - Change in loss: 1.0030485425094133\n",
      "Epoch 66 step 71 - Learning Rate : 0.003125- Avg Loss: 0.938010 - Change in loss: 1.025139625552756\n",
      "Epoch 67 step 71 - Learning Rate : 0.003125- Avg Loss: 0.914814 - Change in loss: 0.975270765775639\n",
      "Epoch 68 step 71 - Learning Rate : 0.003125- Avg Loss: 0.912035 - Change in loss: 0.9969617596219926\n",
      "Epoch 69 step 71 - Learning Rate : 0.003125- Avg Loss: 0.912071 - Change in loss: 1.0000402303862088\n",
      "Epoch 70 step 71 - Learning Rate : 0.0015625- Avg Loss: 0.908551 - Change in loss: 0.9961400350528566\n",
      "Epoch 71 step 71 - Learning Rate : 0.0015625- Avg Loss: 0.909797 - Change in loss: 1.0013720605719638\n",
      "Epoch 72 step 71 - Learning Rate : 0.0015625- Avg Loss: 0.911043 - Change in loss: 1.0013689375861141\n",
      "Epoch 73 step 71 - Learning Rate : 0.0015625- Avg Loss: 0.953956 - Change in loss: 1.0471037170155955\n",
      "Epoch 74 step 71 - Learning Rate : 0.0015625- Avg Loss: 0.917027 - Change in loss: 0.9612878889005215\n",
      "Epoch 75 step 71 - Learning Rate : 0.0015625- Avg Loss: 0.908633 - Change in loss: 0.9908464681689838\n",
      "Epoch 76 step 71 - Learning Rate : 0.0015625- Avg Loss: 0.906739 - Change in loss: 0.9979161536155188\n",
      "Epoch 77 step 71 - Learning Rate : 0.0015625- Avg Loss: 0.907956 - Change in loss: 1.0013420312277852\n",
      "Epoch 78 step 71 - Learning Rate : 0.0015625- Avg Loss: 0.906925 - Change in loss: 0.9988644688539742\n",
      "Epoch 79 step 71 - Learning Rate : 0.0015625- Avg Loss: 0.907471 - Change in loss: 1.0006015723410653\n",
      "Epoch 80 step 71 - Learning Rate : 0.00078125- Avg Loss: 0.904195 - Change in loss: 0.9963902861556964\n",
      "Epoch 81 step 71 - Learning Rate : 0.00078125- Avg Loss: 0.926503 - Change in loss: 1.0246717405320587\n",
      "Epoch 82 step 71 - Learning Rate : 0.00078125- Avg Loss: 0.904839 - Change in loss: 0.9766173464428951\n",
      "Epoch 83 step 71 - Learning Rate : 0.00078125- Avg Loss: 0.902992 - Change in loss: 0.9979590673693024\n",
      "Epoch 84 step 71 - Learning Rate : 0.00078125- Avg Loss: 0.907263 - Change in loss: 1.0047297269105344\n",
      "Epoch 85 step 71 - Learning Rate : 0.00078125- Avg Loss: 0.906099 - Change in loss: 0.9987165986678077\n",
      "Epoch 86 step 71 - Learning Rate : 0.00078125- Avg Loss: 0.902121 - Change in loss: 0.9956099158647624\n",
      "Epoch 87 step 71 - Learning Rate : 0.00078125- Avg Loss: 0.903616 - Change in loss: 1.001657517711359\n",
      "Epoch 88 step 71 - Learning Rate : 0.00078125- Avg Loss: 0.905203 - Change in loss: 1.0017560754691697\n",
      "Epoch 89 step 71 - Learning Rate : 0.00078125- Avg Loss: 0.902982 - Change in loss: 0.9975463347034369\n",
      "Epoch 90 step 71 - Learning Rate : 0.000390625- Avg Loss: 0.947011 - Change in loss: 1.0487599449525862\n",
      "Epoch 91 step 71 - Learning Rate : 0.000390625- Avg Loss: 0.902912 - Change in loss: 0.9534335331904763\n",
      "Epoch 92 step 71 - Learning Rate : 0.000390625- Avg Loss: 0.921610 - Change in loss: 1.020708234667573\n",
      "Epoch 93 step 71 - Learning Rate : 0.000390625- Avg Loss: 0.902561 - Change in loss: 0.9793313872662285\n",
      "Epoch 94 step 71 - Learning Rate : 0.000390625- Avg Loss: 0.906842 - Change in loss: 1.004742434924824\n",
      "Epoch 95 step 71 - Learning Rate : 0.000390625- Avg Loss: 0.901548 - Change in loss: 0.9941621211256431\n",
      "Epoch 96 step 71 - Learning Rate : 0.000390625- Avg Loss: 0.901885 - Change in loss: 1.0003735281532145\n",
      "Epoch 97 step 71 - Learning Rate : 0.000390625- Avg Loss: 0.902496 - Change in loss: 1.0006778356216883\n",
      "Epoch 98 step 71 - Learning Rate : 0.000390625- Avg Loss: 0.902681 - Change in loss: 1.0002048146026092\n",
      "Epoch 99 step 71 - Learning Rate : 0.000390625- Avg Loss: 0.900406 - Change in loss: 0.9974799571406703\n",
      "Epoch 100 step 71 - Learning Rate : 0.0001953125- Avg Loss: 0.898520 - Change in loss: 0.9979053315877892\n"
     ]
    }
   ],
   "source": [
    "avg_losses = []\n",
    "epochs = []\n",
    "avg_loss = 1\n",
    "\n",
    "for epoch in range(100):\n",
    "\n",
    "    if (epoch+1) % 10 ==0:\n",
    "        learning_rate /= 2\n",
    "        optimizer = torch.optim.SGD(model.parameters(), lr = learning_rate)\n",
    "\n",
    "    losses = []\n",
    "\n",
    "    i = 0\n",
    "    for evals, elo in data_loader:\n",
    "        evals = evals.to(device)\n",
    "        elo = elo.to(device)\n",
    "        outputs = model(evals)\n",
    "        #print(outputs)\n",
    "        #print(outputs.shape, elo.shape)\n",
    "        loss = criterion(outputs,elo)\n",
    "        # optimizing\n",
    "        optimizer.zero_grad()\n",
    "        loss.backward()\n",
    "        optimizer.step()\n",
    "        losses.append(loss.item())\n",
    "        i+=1\n",
    "\n",
    "    change = stats.mean(losses)/avg_loss\n",
    "    avg_loss = stats.mean(losses)\n",
    "\n",
    "    # adding histograms to the summary writer\n",
    "    for name, param in model.named_parameters():\n",
    "        writer.add_histogram(name, np.array(param.detach().tolist()), epoch)\n",
    "\n",
    "    # adding loss\n",
    "    writer.add_scalar('Average loss',avg_loss, epoch)\n",
    "    avg_losses.append(avg_loss)\n",
    "    epochs.append(epoch)\n",
    "    print(f'Epoch {epoch+1} step {i+1} - Learning Rate : {learning_rate}- Avg Loss: {avg_loss:3f} - Change in loss: {change}')\n",
    "\n",
    "\n",
    "writer.close()"
   ]
  },
  {
   "cell_type": "code",
   "execution_count": 816,
   "metadata": {},
   "outputs": [
    {
     "data": {
      "text/plain": "<matplotlib.collections.PathCollection at 0x1ea99b1eda0>"
     },
     "execution_count": 816,
     "metadata": {},
     "output_type": "execute_result"
    },
    {
     "data": {
      "text/plain": "<Figure size 432x288 with 1 Axes>",
      "image/png": "[encoded data removed]"
     },
     "metadata": {},
     "output_type": "display_data"
    }
   ],
   "source": [
    "plt.scatter(epochs, avg_losses)"
   ]
  },
  {
   "cell_type": "markdown",
   "metadata": {},
   "source": [
    "## Test data"
   ]
  },
  {
   "cell_type": "code",
   "execution_count": 832,
   "outputs": [],
   "source": [
    "model =model.eval()"
   ],
   "metadata": {
    "collapsed": false
   }
  },
  {
   "cell_type": "code",
   "execution_count": 833,
   "metadata": {},
   "outputs": [
    {
     "data": {
      "text/plain": "MyRNN(\n  (rnn): RNN(2, 45, num_layers=4, batch_first=True)\n  (fc): Linear(in_features=45, out_features=1, bias=False)\n  (final): Tanh()\n)"
     },
     "execution_count": 833,
     "metadata": {},
     "output_type": "execute_result"
    }
   ],
   "source": [
    "device = 'cuda' if torch.cuda.is_available() else 'cpu'\n",
    "model.to(device)"
   ]
  },
  {
   "cell_type": "code",
   "execution_count": 834,
   "metadata": {},
   "outputs": [],
   "source": [
    "test_data_loader = torch.utils.data.DataLoader(test_data_zip, batch_size=1, shuffle=False ,collate_fn=collate)"
   ]
  },
  {
   "cell_type": "code",
   "execution_count": 835,
   "metadata": {},
   "outputs": [
    {
     "name": "stdout",
     "output_type": "stream",
     "text": [
      "Average loss : 1.1921558537826227\n"
     ]
    }
   ],
   "source": [
    "losses = []\n",
    "outputs = []\n",
    "elos = []\n",
    "for evals, elo in test_data_loader:\n",
    "    #print(\"evals\",evals.shape)\n",
    "    evals = evals.to(device)\n",
    "    elo = elo.to(device)\n",
    "    output = model(evals)\n",
    "    outputs.append(output.item())\n",
    "    elos.append(elo.item())\n",
    "    loss = criterion(output,elo)\n",
    "    #print(f'Model prediction : {output} \\n ELO : {elo} \\n MSE : {loss}')\n",
    "    losses.append(loss.item())\n",
    "print(f'Average loss : {stats.mean(losses)}')"
   ]
  },
  {
   "cell_type": "code",
   "execution_count": 837,
   "metadata": {},
   "outputs": [
    {
     "data": {
      "text/plain": "tensor([-0.1588], grad_fn=<SelectBackward0>)"
     },
     "execution_count": 837,
     "metadata": {},
     "output_type": "execute_result"
    }
   ],
   "source": [
    "model(evals)"
   ]
  },
  {
   "cell_type": "code",
   "execution_count": 838,
   "metadata": {},
   "outputs": [
    {
     "data": {
      "text/plain": "<matplotlib.collections.PathCollection at 0x1ea99ae1c90>"
     },
     "execution_count": 838,
     "metadata": {},
     "output_type": "execute_result"
    },
    {
     "data": {
      "text/plain": "<Figure size 432x288 with 1 Axes>",
      "image/png": "[encoded data removed]"
     },
     "metadata": {},
     "output_type": "display_data"
    }
   ],
   "source": [
    "plt.scatter(elos,outputs, alpha = 1)"
   ]
  },
  {
   "cell_type": "markdown",
   "metadata": {},
   "source": [
    "# Plotting the neural net architecture"
   ]
  },
  {
   "cell_type": "code",
   "execution_count": 839,
   "metadata": {},
   "outputs": [
    {
     "name": "stdout",
     "output_type": "stream",
     "text": [
      "0.5265672206878662\n",
      "-0.8018124103546143\n"
     ]
    }
   ],
   "source": [
    "print(max(outputs))\n",
    "print(min(outputs))"
   ]
  },
  {
   "cell_type": "code",
   "execution_count": 825,
   "outputs": [],
   "source": [
    "# Use torch.jit.trace to generate a torch.jit.ScriptModule via tracing.\n",
    "#traced_script_module = torch.jit.trace(model, example)"
   ],
   "metadata": {
    "collapsed": false
   }
  },
  {
   "cell_type": "code",
   "execution_count": 826,
   "outputs": [],
   "source": [
    "params =dict(model.named_parameters())"
   ],
   "metadata": {
    "collapsed": false
   }
  },
  {
   "cell_type": "code",
   "execution_count": 827,
   "outputs": [],
   "source": [
    "dot = make_dot(output, params=params, show_attrs=False, show_saved=False)"
   ],
   "metadata": {
    "collapsed": false
   }
  },
  {
   "cell_type": "code",
   "execution_count": 828,
   "outputs": [
    {
     "data": {
      "text/plain": "'rnn_torchviz3.pdf'"
     },
     "execution_count": 828,
     "metadata": {},
     "output_type": "execute_result"
    }
   ],
   "source": [
    "dot.render(\"rnn_torchviz3\", format=\"pdf\", engine= 'neato') # doesn't seem to work great with padded & packed input..."
   ],
   "metadata": {
    "collapsed": false
   }
  },
  {
   "cell_type": "markdown",
   "source": [
    "# Visualization"
   ],
   "metadata": {
    "collapsed": false
   }
  },
  {
   "cell_type": "code",
   "execution_count": 829,
   "outputs": [],
   "source": [
    "writer = SummaryWriter('runs/run1')"
   ],
   "metadata": {
    "collapsed": false
   }
  }
 ],
 "metadata": {
  "kernelspec": {
   "display_name": "Python 3 (ipykernel)",
   "language": "python",
   "name": "python3"
  },
  "language_info": {
   "codemirror_mode": {
    "name": "ipython",
    "version": 2
   },
   "file_extension": ".py",
   "mimetype": "text/x-python",
   "name": "python",
   "nbconvert_exporter": "python",
   "pygments_lexer": "ipython2",
   "version": "2.7.6"
  }
 },
 "nbformat": 4,
 "nbformat_minor": 1
}
