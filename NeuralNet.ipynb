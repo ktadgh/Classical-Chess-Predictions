{
 "cells": [
  {
   "cell_type": "code",
   "execution_count": 1233,
   "metadata": {},
   "outputs": [],
   "source": [
    "import pandas as pd\n",
    "import numpy as np\n",
    "from torch import nn\n",
    "from sklearn.preprocessing import PowerTransformer\n",
    "from torchviz import make_dot\n",
    "from itertools import islice\n",
    "import torch\n",
    "import numpy\n",
    "from sklearn.model_selection import train_test_split\n",
    "import statistics as stats\n",
    "import matplotlib.pyplot as plt\n",
    "from torch.utils.tensorboard import SummaryWriter\n",
    "import hiddenlayer as hl\n",
    "import graphviz\n",
    "from sklearn.linear_model import LinearRegression\n",
    "from sklearn.preprocessing import PolynomialFeatures\n",
    "\n",
    "import seaborn as sns\n",
    "from sklearn.metrics import mean_squared_error"
   ]
  },
  {
   "cell_type": "code",
   "execution_count": 1234,
   "outputs": [],
   "source": [
    "g = graphviz.Graph(engine='neato')"
   ],
   "metadata": {
    "collapsed": false
   }
  },
  {
   "cell_type": "markdown",
   "metadata": {},
   "source": [
    "# Importing the data"
   ]
  },
  {
   "cell_type": "code",
   "execution_count": 1235,
   "metadata": {},
   "outputs": [],
   "source": [
    "def to_list(str):\n",
    "    '''\n",
    "    :param str: string representing a list of centipawn losses\n",
    "    :return: list of integer centipawn losses\n",
    "    '''\n",
    "    string = str.replace('[','').replace(']','')\n",
    "    ls = string.split(',')\n",
    "    list = [int(i) for i in ls]\n",
    "\n",
    "    return list"
   ]
  },
  {
   "cell_type": "code",
   "execution_count": 1236,
   "outputs": [],
   "source": [
    "def black_process(eval):\n",
    "    '''\n",
    "    :param eval: list of integer centipawn losses\n",
    "    :return: array of lists of [evaluation, centipawn loss]\n",
    "    '''\n",
    "\n",
    "    # starting evaluation of 30 centipawns\n",
    "    sum = 30\n",
    "\n",
    "    i = 0\n",
    "    res = []\n",
    "\n",
    "    # iterating through centipawn losses\n",
    "    for cpl in eval:\n",
    "\n",
    "        # subtracting the cpl for white's moves\n",
    "        if i % 2 ==0:\n",
    "            sum -= cpl\n",
    "            i += 1\n",
    "\n",
    "        # adding the cpl for black's moves\n",
    "        else:\n",
    "            res.append([sum,cpl])\n",
    "            sum+=cpl\n",
    "            i+=1\n",
    "\n",
    "    return numpy.array(res)"
   ],
   "metadata": {
    "collapsed": false
   }
  },
  {
   "cell_type": "code",
   "execution_count": 1237,
   "metadata": {},
   "outputs": [],
   "source": [
    "def white_process(eval):\n",
    "    '''\n",
    "    :param eval: list of integer centipawn losses\n",
    "    :return: array of lists of [evaluation, centipawn loss]\n",
    "    '''\n",
    "\n",
    "    # starting evaluation of 30 centipawns\n",
    "    sum = 30\n",
    "\n",
    "    i = 0\n",
    "    res = []\n",
    "\n",
    "    # iterating through centipawn losses\n",
    "    for cpl in eval:\n",
    "\n",
    "        # subtracting the cpl for white's moves\n",
    "        if i % 2 ==0:\n",
    "            res.append([sum,cpl])\n",
    "            sum -= cpl\n",
    "            i += 1\n",
    "\n",
    "        # adding the cpl for black's moves\n",
    "        else:\n",
    "            sum+=cpl\n",
    "            i+=1\n",
    "\n",
    "    return numpy.array(res)"
   ]
  },
  {
   "cell_type": "code",
   "execution_count": 1238,
   "metadata": {},
   "outputs": [
    {
     "name": "stdout",
     "output_type": "stream",
     "text": [
      "Total  games: 3397\n",
      "Evaluted games: 454\n"
     ]
    }
   ],
   "source": [
    "# reading *some* of the data\n",
    "dfs = []\n",
    "\n",
    "players = ['andreikin, dmitry', 'anand, viswanathan', 'wang, hao', 'grischuk, alexander', 'karjakin, sergey','duda, jan-krzysztof', 'radjabov, teimour', 'dominguez perez, leinier','nakamura, hikaru', 'vachier-lagrave, maxime','aronian, levon','mamedyarov, shakhriyar', 'so, wesley','ding, liren', 'rapport, richard', 'nepomniachtchi, ian', 'giri, anish', 'firouzja, alireza', 'caruana, fabiano','carlsen, magnus','zelcic, robert','khotenashvili, bela', 'bischoff, klaus', 'hoffmann, asa','kaufman, lawrence','bellaiche, elise']\n",
    "\n",
    "# reading the csvs\n",
    "for player in players[3:]:\n",
    "    df = pd.read_csv('blitz/'+player +'.csv')\n",
    "    dfs.append(df)\n",
    "df = pd.concat(dfs)\n",
    "\n",
    "\n",
    "print(f\"Total  games: {len(df)}\")\n",
    "\n",
    "# Filtering out * values\n",
    "df = df[df['WhiteELO'] != '*']\n",
    "df = df[df['BlackELO'] != '*']\n",
    "df[['WhiteELO', 'BlackELO']] = df[['WhiteELO', 'BlackELO']] .astype(int)\n",
    "\n",
    "df = df[df['Eval'] != '']\n",
    "df = df[ df['Eval'].apply(lambda x: isinstance(x, str))]\n",
    "\n",
    "\n",
    "# converting the evaluation to a list\n",
    "df['Eval'] = df['Eval'].apply( to_list)\n",
    "df['WhiteEval'] = df['Eval'].apply( white_process )\n",
    "df['BlackEval'] = df['Eval'].apply( black_process )\n",
    "\n",
    "print(f\"Evaluted games: {len(df['Eval'])}\")"
   ]
  },
  {
   "cell_type": "code",
   "execution_count": 1239,
   "metadata": {},
   "outputs": [],
   "source": [
    "white_x = numpy.array(df['WhiteEval'])\n",
    "white_length = numpy.array(df['WhiteEval'].apply(len))\n",
    "\n",
    "black_x = numpy.array(df['WhiteEval'])\n",
    "black_length = numpy.array(df['WhiteEval'].apply(len))"
   ]
  },
  {
   "cell_type": "code",
   "execution_count": 1239,
   "outputs": [],
   "source": [],
   "metadata": {
    "collapsed": false
   }
  },
  {
   "cell_type": "code",
   "execution_count": 1240,
   "metadata": {},
   "outputs": [],
   "source": [
    "# creating and fitting a power transformer for black and white\n",
    "wpt = PowerTransformer()\n",
    "white_y = numpy.concatenate(white_x)\n",
    "wpt.fit(white_y)\n",
    "white_transformed = wpt.transform(white_y)\n",
    "\n",
    "bpt = PowerTransformer()\n",
    "black_y = numpy.concatenate(black_x)\n",
    "bpt.fit(black_y)\n",
    "black_transformed = bpt.transform(black_y)"
   ]
  },
  {
   "cell_type": "markdown",
   "source": [],
   "metadata": {
    "collapsed": false
   }
  },
  {
   "cell_type": "code",
   "execution_count": 1241,
   "outputs": [],
   "source": [
    "def avg_cpl(white_processed):\n",
    "    cpls = []\n",
    "    for i in white_processed:\n",
    "        cpls.append(i[1])\n",
    "    if len(cpls) == 0:\n",
    "        return float('NaN')\n",
    "    else:\n",
    "        return stats.mean(cpls)"
   ],
   "metadata": {
    "collapsed": false
   }
  },
  {
   "cell_type": "code",
   "execution_count": 1242,
   "outputs": [],
   "source": [
    "df['White_avg_cpl'] = df['WhiteEval'].apply( avg_cpl )"
   ],
   "metadata": {
    "collapsed": false
   }
  },
  {
   "cell_type": "code",
   "execution_count": 1243,
   "outputs": [],
   "source": [
    "df = df[df['Eval']!='']"
   ],
   "metadata": {
    "collapsed": false
   }
  },
  {
   "cell_type": "code",
   "execution_count": 1244,
   "outputs": [
    {
     "name": "stdout",
     "output_type": "stream",
     "text": [
      "White_avg_cpl\n",
      " 0      7\n",
      " 32     6\n",
      " 12     5\n",
      " 10     4\n",
      " 33     4\n",
      "       ..\n",
      "-55     1\n",
      "-56     1\n",
      "-57     1\n",
      "-60     1\n",
      " 952    1\n",
      "Length: 341, dtype: int64\n"
     ]
    },
    {
     "data": {
      "text/plain": "<Figure size 432x288 with 1 Axes>",
      "image/png": "[encoded data removed]"
     },
     "metadata": {
      "needs_background": "light"
     },
     "output_type": "display_data"
    }
   ],
   "source": [
    "df['WhiteELO'].hist()\n",
    "print(df.value_counts('White_avg_cpl'))"
   ],
   "metadata": {
    "collapsed": false
   }
  },
  {
   "cell_type": "code",
   "execution_count": 1245,
   "outputs": [
    {
     "data": {
      "text/plain": "<AxesSubplot:xlabel='WhiteELO', ylabel='[White_avg_cpl]'>"
     },
     "execution_count": 1245,
     "metadata": {},
     "output_type": "execute_result"
    },
    {
     "data": {
      "text/plain": "<Figure size 432x288 with 1 Axes>",
      "image/png": "[encoded data removed]"
     },
     "metadata": {
      "needs_background": "light"
     },
     "output_type": "display_data"
    }
   ],
   "source": [
    "df.plot.scatter(x='WhiteELO', y = ['White_avg_cpl'])"
   ],
   "metadata": {
    "collapsed": false
   }
  },
  {
   "cell_type": "code",
   "execution_count": 1246,
   "outputs": [
    {
     "name": "stderr",
     "output_type": "stream",
     "text": [
      "C:\\Users\\Administrator\\AppData\\Local\\Programs\\Python\\Python310\\lib\\site-packages\\seaborn\\_decorators.py:36: FutureWarning: Pass the following variables as keyword args: x, y. From version 0.12, the only valid positional argument will be `data`, and passing other arguments without an explicit keyword will result in an error or misinterpretation.\n",
      "  warnings.warn(\n"
     ]
    },
    {
     "data": {
      "text/plain": "<AxesSubplot:xlabel='WhiteELO', ylabel='White_avg_cpl'>"
     },
     "execution_count": 1246,
     "metadata": {},
     "output_type": "execute_result"
    },
    {
     "data": {
      "text/plain": "<Figure size 432x288 with 1 Axes>",
      "image/png": "[encoded data removed]"
     },
     "metadata": {
      "needs_background": "light"
     },
     "output_type": "display_data"
    }
   ],
   "source": [
    "plt.figure()\n",
    "sns.regplot(df['WhiteELO'], df['White_avg_cpl'])"
   ],
   "metadata": {
    "collapsed": false
   }
  },
  {
   "cell_type": "code",
   "execution_count": 1247,
   "outputs": [],
   "source": [
    "# make a simple linear regression model.\n",
    "X = np.array(df['White_avg_cpl'])\n",
    "X = np.reshape(X, (len(X), 1))\n",
    "y = np.array(df['WhiteELO'])\n",
    "y = np.reshape(y, (len(y), 1))\n",
    "regression = LinearRegression()\n",
    "\n",
    "X_train, X_test, y_train, y_test = train_test_split(X, y, test_size = 0.2)\n",
    "\n",
    "regression.fit(X_train,y_train)\n",
    "regression.score(X_test,y_test)\n",
    "#plt.scatter(y, pred_y)\n",
    "\n",
    "y_pred = regression.predict(X_test)"
   ],
   "metadata": {
    "collapsed": false
   }
  },
  {
   "cell_type": "code",
   "execution_count": 1248,
   "outputs": [
    {
     "name": "stdout",
     "output_type": "stream",
     "text": [
      "19828.679798604582\n"
     ]
    }
   ],
   "source": [
    "print(mean_squared_error(y_test, y_pred))"
   ],
   "metadata": {
    "collapsed": false
   }
  },
  {
   "cell_type": "code",
   "execution_count": 1249,
   "outputs": [
    {
     "name": "stderr",
     "output_type": "stream",
     "text": [
      "C:\\Users\\Administrator\\AppData\\Local\\Programs\\Python\\Python310\\lib\\site-packages\\seaborn\\_decorators.py:36: FutureWarning: Pass the following variables as keyword args: x, y. From version 0.12, the only valid positional argument will be `data`, and passing other arguments without an explicit keyword will result in an error or misinterpretation.\n",
      "  warnings.warn(\n"
     ]
    },
    {
     "data": {
      "text/plain": "<AxesSubplot:>"
     },
     "execution_count": 1249,
     "metadata": {},
     "output_type": "execute_result"
    },
    {
     "data": {
      "text/plain": "<Figure size 432x288 with 1 Axes>",
      "image/png": "[encoded data removed]"
     },
     "metadata": {
      "needs_background": "light"
     },
     "output_type": "display_data"
    }
   ],
   "source": [
    "plt.figure()\n",
    "sns.regplot(y_test, y_pred)"
   ],
   "metadata": {
    "collapsed": false
   }
  },
  {
   "cell_type": "code",
   "execution_count": 1250,
   "metadata": {},
   "outputs": [],
   "source": [
    "# need a function now to (effieciently) change these to lists of length list\n",
    "white_transformed_array = [numpy.array(list(islice(iter(white_transformed), elem)))\n",
    "        for elem in white_length]\n",
    "\n",
    "black_transformed_array = [numpy.array(list(islice(iter(black_transformed), elem)))\n",
    "        for elem in black_length]"
   ]
  },
  {
   "cell_type": "code",
   "execution_count": 1251,
   "metadata": {},
   "outputs": [
    {
     "name": "stdout",
     "output_type": "stream",
     "text": [
      "Unique evaluated games: 431\n"
     ]
    }
   ],
   "source": [
    "print(f\"Unique evaluated games: {df['Game'].nunique()}\")"
   ]
  },
  {
   "cell_type": "markdown",
   "metadata": {},
   "source": [
    "# Preparing the data for the Neural Net"
   ]
  },
  {
   "cell_type": "code",
   "execution_count": 1252,
   "metadata": {},
   "outputs": [],
   "source": [
    "# converting evaluations and length to tensors\n",
    "white_evals = [torch.tensor(i, dtype = torch.float32) for i in white_transformed_array]\n",
    "white_lengths = [len(tensor) for tensor in white_evals]\n",
    "\n",
    "black_evals = [torch.tensor(i, dtype = torch.float32) for i in black_transformed_array]\n",
    "black_lengths = [len(tensor) for tensor in black_evals]"
   ]
  },
  {
   "cell_type": "code",
   "execution_count": 1253,
   "metadata": {},
   "outputs": [],
   "source": [
    "# Padding my sequences - not sure why batch first works, but it does\n",
    "#inputs = torch.nn.utils.rnn.pad_sequence(evals, batch_first=True, padding_value=0.0)"
   ]
  },
  {
   "cell_type": "code",
   "execution_count": 1254,
   "metadata": {},
   "outputs": [],
   "source": [
    "#inputs_array = numpy.array(inputs.tolist())"
   ]
  },
  {
   "cell_type": "code",
   "execution_count": 1255,
   "metadata": {},
   "outputs": [],
   "source": [
    "#print(inputs.shape)"
   ]
  },
  {
   "cell_type": "code",
   "execution_count": 1256,
   "metadata": {},
   "outputs": [],
   "source": [
    "#inputs_list =inputs.tolist()\n",
    "\n",
    "# normalizing... a bit hacky\n",
    "#inputs_array = (numpy.array(inputs_list) - numpy.array(inputs_list).mean())/ numpy.linalg.norm(numpy.array(inputs_list))"
   ]
  },
  {
   "cell_type": "code",
   "execution_count": 1257,
   "metadata": {},
   "outputs": [],
   "source": [
    "def normalize(array):\n",
    "    '''\n",
    "    :param array:\n",
    "    :return:\n",
    "    '''\n",
    "    return (array - array.mean())/array.std()\n",
    "\n",
    "def denormalize(array, value):\n",
    "    '''\n",
    "    :param array:\n",
    "    :param value:\n",
    "    :return:\n",
    "    '''\n",
    "    return value*array.std() + array.mean()"
   ]
  },
  {
   "cell_type": "code",
   "execution_count": 1258,
   "metadata": {},
   "outputs": [],
   "source": [
    "#print(df['WhiteELO'].value_counts())"
   ]
  },
  {
   "cell_type": "code",
   "execution_count": 1259,
   "outputs": [],
   "source": [
    "from sklearn import preprocessing"
   ],
   "metadata": {
    "collapsed": false
   }
  },
  {
   "cell_type": "code",
   "execution_count": 1260,
   "outputs": [],
   "source": [
    "white_elo_arr = numpy.array(df['WhiteELO'])\n"
   ],
   "metadata": {
    "collapsed": false
   }
  },
  {
   "cell_type": "code",
   "execution_count": 1260,
   "outputs": [],
   "source": [
    "\n"
   ],
   "metadata": {
    "collapsed": false
   }
  },
  {
   "cell_type": "code",
   "execution_count": 1260,
   "outputs": [],
   "source": [],
   "metadata": {
    "collapsed": false
   }
  },
  {
   "cell_type": "code",
   "execution_count": 1260,
   "outputs": [],
   "source": [],
   "metadata": {
    "collapsed": false
   }
  },
  {
   "cell_type": "code",
   "execution_count": 1261,
   "outputs": [],
   "source": [
    "welopt = PowerTransformer()\n",
    "white_elo_arr = np.reshape(white_elo_arr, (len(white_elo_arr),1))\n",
    "welopt.fit(white_elo_arr)\n",
    "white_elo_transformed = welopt.transform(white_elo_arr)"
   ],
   "metadata": {
    "collapsed": false
   }
  },
  {
   "cell_type": "code",
   "execution_count": 1262,
   "outputs": [
    {
     "name": "stdout",
     "output_type": "stream",
     "text": [
      "[[2632]\n",
      " [2795]\n",
      " [2784]\n",
      " [2709]\n",
      " [2750]\n",
      " [2503]\n",
      " [2736]\n",
      " [2716]\n",
      " [2719]\n",
      " [2731]\n",
      " [2703]\n",
      " [2764]\n",
      " [2795]\n",
      " [2754]\n",
      " [2766]\n",
      " [2736]\n",
      " [2498]\n",
      " [2772]\n",
      " [2722]\n",
      " [2772]\n",
      " [2749]\n",
      " [2543]\n",
      " [2752]\n",
      " [2688]\n",
      " [2777]\n",
      " [2777]\n",
      " [2792]\n",
      " [2709]\n",
      " [2775]\n",
      " [2741]\n",
      " [2433]\n",
      " [2752]\n",
      " [2727]\n",
      " [2752]\n",
      " [2541]\n",
      " [2681]\n",
      " [2581]\n",
      " [2730]\n",
      " [2653]\n",
      " [2731]\n",
      " [2710]\n",
      " [2795]\n",
      " [2774]\n",
      " [2832]\n",
      " [2798]\n",
      " [2766]\n",
      " [2760]\n",
      " [2772]\n",
      " [2752]\n",
      " [2541]\n",
      " [2799]\n",
      " [2779]\n",
      " [2771]\n",
      " [2743]\n",
      " [2456]\n",
      " [2757]\n",
      " [2785]\n",
      " [2773]\n",
      " [2754]\n",
      " [2764]\n",
      " [2743]\n",
      " [2753]\n",
      " [2613]\n",
      " [2385]\n",
      " [2709]\n",
      " [2782]\n",
      " [2630]\n",
      " [2723]\n",
      " [2688]\n",
      " [2783]\n",
      " [2772]\n",
      " [2760]\n",
      " [2509]\n",
      " [2773]\n",
      " [2606]\n",
      " [2700]\n",
      " [2760]\n",
      " [2786]\n",
      " [2700]\n",
      " [2779]\n",
      " [2727]\n",
      " [2723]\n",
      " [2777]\n",
      " [2783]\n",
      " [2756]\n",
      " [2789]\n",
      " [2738]\n",
      " [2628]\n",
      " [2717]\n",
      " [2628]\n",
      " [2734]\n",
      " [2352]\n",
      " [2784]\n",
      " [2694]\n",
      " [2731]\n",
      " [2629]\n",
      " [2628]\n",
      " [2628]\n",
      " [2734]\n",
      " [2640]\n",
      " [2622]\n",
      " [2758]\n",
      " [2729]\n",
      " [2777]\n",
      " [2717]\n",
      " [2620]\n",
      " [2608]\n",
      " [2819]\n",
      " [2597]\n",
      " [2729]\n",
      " [2700]\n",
      " [2608]\n",
      " [2717]\n",
      " [2729]\n",
      " [2731]\n",
      " [2699]\n",
      " [2793]\n",
      " [2731]\n",
      " [2724]\n",
      " [2738]\n",
      " [2422]\n",
      " [2724]\n",
      " [2788]\n",
      " [2738]\n",
      " [2725]\n",
      " [2560]\n",
      " [2793]\n",
      " [2765]\n",
      " [2760]\n",
      " [2710]\n",
      " [2788]\n",
      " [2710]\n",
      " [2726]\n",
      " [2693]\n",
      " [2749]\n",
      " [2710]\n",
      " [2744]\n",
      " [2734]\n",
      " [2744]\n",
      " [2714]\n",
      " [2777]\n",
      " [2837]\n",
      " [2713]\n",
      " [2801]\n",
      " [2732]\n",
      " [2739]\n",
      " [2739]\n",
      " [2730]\n",
      " [2719]\n",
      " [2509]\n",
      " [2739]\n",
      " [2758]\n",
      " [2726]\n",
      " [2739]\n",
      " [2732]\n",
      " [2709]\n",
      " [2763]\n",
      " [2758]\n",
      " [2719]\n",
      " [2757]\n",
      " [2710]\n",
      " [2726]\n",
      " [2526]\n",
      " [2773]\n",
      " [2729]\n",
      " [2739]\n",
      " [2608]\n",
      " [2521]\n",
      " [2758]\n",
      " [2631]\n",
      " [2763]\n",
      " [2743]\n",
      " [2739]\n",
      " [2763]\n",
      " [2763]\n",
      " [2709]\n",
      " [2750]\n",
      " [2758]\n",
      " [2732]\n",
      " [2732]\n",
      " [2758]\n",
      " [2721]\n",
      " [2757]\n",
      " [2739]\n",
      " [2735]\n",
      " [2387]\n",
      " [2719]\n",
      " [2752]\n",
      " [2726]\n",
      " [2781]\n",
      " [2731]\n",
      " [2687]\n",
      " [2751]\n",
      " [2784]\n",
      " [2758]\n",
      " [2750]\n",
      " [2383]\n",
      " [2732]\n",
      " [2739]\n",
      " [2740]\n",
      " [2769]\n",
      " [2389]\n",
      " [2767]\n",
      " [2783]\n",
      " [2783]\n",
      " [2571]\n",
      " [2749]\n",
      " [2428]\n",
      " [2787]\n",
      " [2785]\n",
      " [2792]\n",
      " [2748]\n",
      " [2736]\n",
      " [2682]\n",
      " [2737]\n",
      " [2779]\n",
      " [2791]\n",
      " [2701]\n",
      " [2741]\n",
      " [2784]\n",
      " [2763]\n",
      " [2778]\n",
      " [2692]\n",
      " [2906]\n",
      " [2772]\n",
      " [2805]\n",
      " [2754]\n",
      " [2832]\n",
      " [2361]\n",
      " [2791]\n",
      " [2729]\n",
      " [2749]\n",
      " [2754]\n",
      " [2786]\n",
      " [2540]\n",
      " [2765]\n",
      " [2775]\n",
      " [2780]\n",
      " [2795]\n",
      " [2819]\n",
      " [2780]\n",
      " [2789]\n",
      " [2745]\n",
      " [2707]\n",
      " [2789]\n",
      " [2788]\n",
      " [2780]\n",
      " [2792]\n",
      " [2795]\n",
      " [2734]\n",
      " [2758]\n",
      " [2789]\n",
      " [2805]\n",
      " [2783]\n",
      " [2771]\n",
      " [2796]\n",
      " [2703]\n",
      " [2789]\n",
      " [2687]\n",
      " [2703]\n",
      " [2652]\n",
      " [2745]\n",
      " [2775]\n",
      " [2808]\n",
      " [2782]\n",
      " [2796]\n",
      " [2760]\n",
      " [2795]\n",
      " [2700]\n",
      " [2789]\n",
      " [2652]\n",
      " [2785]\n",
      " [2772]\n",
      " [2804]\n",
      " [2662]\n",
      " [2784]\n",
      " [2634]\n",
      " [2805]\n",
      " [2799]\n",
      " [2739]\n",
      " [2788]\n",
      " [2795]\n",
      " [2458]\n",
      " [2678]\n",
      " [2758]\n",
      " [2805]\n",
      " [2815]\n",
      " [2772]\n",
      " [2707]\n",
      " [2575]\n",
      " [2756]\n",
      " [2799]\n",
      " [2814]\n",
      " [2799]\n",
      " [2767]\n",
      " [2773]\n",
      " [2808]\n",
      " [2767]\n",
      " [2815]\n",
      " [2804]\n",
      " [2599]\n",
      " [2796]\n",
      " [2782]\n",
      " [2627]\n",
      " [2782]\n",
      " [2783]\n",
      " [2787]\n",
      " [2752]\n",
      " [2805]\n",
      " [2780]\n",
      " [2764]\n",
      " [2797]\n",
      " [2762]\n",
      " [2670]\n",
      " [2850]\n",
      " [2816]\n",
      " [2792]\n",
      " [2832]\n",
      " [2797]\n",
      " [2751]\n",
      " [2753]\n",
      " [2772]\n",
      " [2736]\n",
      " [2757]\n",
      " [2763]\n",
      " [2782]\n",
      " [2719]\n",
      " [2737]\n",
      " [2799]\n",
      " [2455]\n",
      " [2757]\n",
      " [2764]\n",
      " [2709]\n",
      " [2817]\n",
      " [2702]\n",
      " [2770]\n",
      " [2754]\n",
      " [2765]\n",
      " [2571]\n",
      " [2782]\n",
      " [2674]\n",
      " [2799]\n",
      " [2718]\n",
      " [2743]\n",
      " [2786]\n",
      " [2719]\n",
      " [2767]\n",
      " [2764]\n",
      " [2682]\n",
      " [2646]\n",
      " [2717]\n",
      " [2753]\n",
      " [2735]\n",
      " [2754]\n",
      " [2743]\n",
      " [2082]\n",
      " [2714]\n",
      " [2764]\n",
      " [2754]\n",
      " [2710]\n",
      " [2741]\n",
      " [2747]\n",
      " [2731]\n",
      " [2738]\n",
      " [2809]\n",
      " [2760]\n",
      " [2739]\n",
      " [2693]\n",
      " [2765]\n",
      " [2770]\n",
      " [2832]\n",
      " [2757]\n",
      " [2785]\n",
      " [2786]\n",
      " [2770]\n",
      " [2750]\n",
      " [2760]\n",
      " [2778]\n",
      " [2772]\n",
      " [2780]\n",
      " [2766]\n",
      " [2812]\n",
      " [2770]\n",
      " [2785]\n",
      " [2796]\n",
      " [2785]\n",
      " [2787]\n",
      " [2773]\n",
      " [2782]\n",
      " [2812]\n",
      " [2789]\n",
      " [2801]\n",
      " [2757]\n",
      " [2778]\n",
      " [2782]\n",
      " [2769]\n",
      " [2770]\n",
      " [2788]\n",
      " [2770]\n",
      " [2739]\n",
      " [2815]\n",
      " [2762]\n",
      " [2481]\n",
      " [2786]\n",
      " [2776]\n",
      " [2777]\n",
      " [2801]\n",
      " [2683]\n",
      " [2702]\n",
      " [2808]\n",
      " [2681]\n",
      " [2777]\n",
      " [2837]\n",
      " [2702]\n",
      " [2791]\n",
      " [2777]\n",
      " [2709]\n",
      " [2715]\n",
      " [2774]\n",
      " [2530]\n",
      " [2731]\n",
      " [2793]\n",
      " [2709]\n",
      " [2754]\n",
      " [2737]\n",
      " [2707]\n",
      " [2731]\n",
      " [2752]\n",
      " [2185]\n",
      " [2336]\n",
      " [2185]\n",
      " [2185]\n",
      " [2185]\n",
      " [2185]\n",
      " [2185]\n",
      " [2185]\n",
      " [2185]\n",
      " [2304]\n",
      " [2400]\n",
      " [2293]\n",
      " [2406]\n",
      " [2205]\n",
      " [2393]\n",
      " [1788]\n",
      " [2036]\n",
      " [1603]\n",
      " [1731]\n",
      " [2036]\n",
      " [2036]\n",
      " [2030]\n",
      " [1951]\n",
      " [2036]\n",
      " [2036]\n",
      " [2294]]\n"
     ]
    }
   ],
   "source": [
    "print(white_elo_arr)"
   ],
   "metadata": {
    "collapsed": false
   }
  },
  {
   "cell_type": "code",
   "execution_count": 1263,
   "outputs": [
    {
     "name": "stdout",
     "output_type": "stream",
     "text": [
      "454\n"
     ]
    }
   ],
   "source": [
    "print(len(white_elo_transformed))"
   ],
   "metadata": {
    "collapsed": false
   }
  },
  {
   "cell_type": "code",
   "execution_count": 1264,
   "outputs": [
    {
     "data": {
      "text/plain": "(array([ 52.,  28.,  62., 138., 135.,  31.,   6.,   1.,   0.,   1.]),\n array([-2.23706627, -1.57733336, -0.91760046, -0.25786756,  0.40186535,\n         1.06159825,  1.72133115,  2.38106406,  3.04079696,  3.70052986,\n         4.36026277]),\n <BarContainer object of 10 artists>)"
     },
     "execution_count": 1264,
     "metadata": {},
     "output_type": "execute_result"
    },
    {
     "data": {
      "text/plain": "<Figure size 432x288 with 1 Axes>",
      "image/png": "[encoded data removed]"
     },
     "metadata": {
      "needs_background": "light"
     },
     "output_type": "display_data"
    }
   ],
   "source": [
    "plt.hist(white_elo_transformed)"
   ],
   "metadata": {
    "collapsed": false
   }
  },
  {
   "cell_type": "code",
   "execution_count": 1265,
   "metadata": {},
   "outputs": [],
   "source": [
    "# Converting White and Black's ELOs to tensors\n",
    "\n",
    "\n",
    "#white_elo = normalize(white_elo_arr)\n",
    "\n",
    "#print(white_elo)\n",
    "white_elo = [torch.tensor(i, dtype = torch.float32) for i in white_elo_transformed]\n",
    "\n",
    "\n",
    "\n",
    "black_elo = numpy.array(df['BlackELO'])\n",
    "black_elo = [torch.tensor(i, dtype = torch.float32) for i in black_elo]\n",
    "\n",
    "\n",
    "# splitting into train and test\n",
    "#lengths_train, lengths_test,white_eval_train, white_eval_test, black_eval_train, black_eval_test, black_train, black_test, white_train, white_test  = train_test_split(lengths, white_evals, black_evals, black_elo, white_elo, test_size=0.2,random_state=0, shuffle = True)\n",
    "white_eval_train, white_eval_test, black_eval_train, black_eval_test, black_train, black_test, white_train, white_test  = train_test_split(white_evals, black_evals, black_elo, white_elo, test_size=0.2,random_state=1, shuffle = True)"
   ]
  },
  {
   "cell_type": "code",
   "execution_count": 1265,
   "outputs": [],
   "source": [],
   "metadata": {
    "collapsed": false
   }
  },
  {
   "cell_type": "code",
   "execution_count": 1266,
   "outputs": [
    {
     "data": {
      "text/plain": "(array([ 52.,  28.,  62., 138., 135.,  31.,   6.,   1.,   0.,   1.]),\n array([-2.23706627, -1.57733336, -0.91760046, -0.25786756,  0.40186535,\n         1.06159825,  1.72133115,  2.38106406,  3.04079696,  3.70052986,\n         4.36026277]),\n <BarContainer object of 10 artists>)"
     },
     "execution_count": 1266,
     "metadata": {},
     "output_type": "execute_result"
    },
    {
     "data": {
      "text/plain": "<Figure size 432x288 with 1 Axes>",
      "image/png": "[encoded data removed]"
     },
     "metadata": {
      "needs_background": "light"
     },
     "output_type": "display_data"
    }
   ],
   "source": [
    "plt.hist(white_elo_transformed)"
   ],
   "metadata": {
    "collapsed": false
   }
  },
  {
   "cell_type": "code",
   "execution_count": 1267,
   "outputs": [
    {
     "data": {
      "text/plain": "(array([  2.,   1.,   1.,   7.,   9.,   7.,  17.,  32., 250., 128.]),\n array([-6.4147788 , -5.64982759, -4.88487638, -4.11992516, -3.35497395,\n        -2.59002274, -1.82507153, -1.06012031, -0.2951691 ,  0.46978211,\n         1.23473332]),\n <BarContainer object of 10 artists>)"
     },
     "execution_count": 1267,
     "metadata": {},
     "output_type": "execute_result"
    },
    {
     "data": {
      "text/plain": "<Figure size 432x288 with 1 Axes>",
      "image/png": "[encoded data removed]"
     },
     "metadata": {
      "needs_background": "light"
     },
     "output_type": "display_data"
    }
   ],
   "source": [
    "plt.hist(normalize(white_elo_arr))"
   ],
   "metadata": {
    "collapsed": false
   }
  },
  {
   "cell_type": "code",
   "execution_count": 1268,
   "metadata": {},
   "outputs": [],
   "source": [
    "# zipping the elo together with the evaluations\n",
    "# train_data_zip = list(zip(white_eval_train, black_eval_train, white_train))\n",
    "# test_data_zip = list(zip(white_eval_test, black_eval_test, white_test))\n",
    "\n",
    "train_data_zip = list(zip(white_eval_train, white_train))\n",
    "test_data_zip = list(zip(white_eval_test, white_test))"
   ]
  },
  {
   "cell_type": "code",
   "execution_count": 1269,
   "metadata": {},
   "outputs": [],
   "source": [
    "black_elo = torch.stack(black_elo)\n",
    "white_elo = torch.stack(white_elo)"
   ]
  },
  {
   "cell_type": "markdown",
   "metadata": {},
   "source": [
    "# Creating the Neural Net"
   ]
  },
  {
   "cell_type": "code",
   "execution_count": 1270,
   "metadata": {},
   "outputs": [],
   "source": [
    "class MyRNN(nn.Module):\n",
    "    def __init__(self, input_size, hidden_size, no_layers):\n",
    "        super(MyRNN, self).__init__()\n",
    "        self.hidden_size = hidden_size\n",
    "        self.no_layers = no_layers\n",
    "        self.rnn = nn.RNN(input_size, hidden_size, no_layers, batch_first = True, bias = True)\n",
    "        self.fc = nn.Linear(hidden_size,1, bias = False)\n",
    "        self.final = nn.Tanh()\n",
    "\n",
    "    def forward(self, x):\n",
    "\n",
    "        out, _ = self.rnn(x)\n",
    "        output ,lengths = torch.nn.utils.rnn.pad_packed_sequence(out, batch_first = True)\n",
    "        # shape batches, seq_length, hidden_size\n",
    "\n",
    "\n",
    "        out = [output[e, i-1,:].unsqueeze(0)for e, i in enumerate(lengths)]\n",
    "        out = torch.cat(out, dim = 0)\n",
    "        #print(out.shape)\n",
    "        #print(\"Linear weights\", self.fc.weight)\n",
    "        out = self.fc(out)\n",
    "        out = self.final(out)\n",
    "        #print(out.shape)\n",
    "        out = out[:,0]\n",
    "\n",
    "        return out\n",
    "\n",
    "\n",
    "    #def init_hidden(self):\n",
    "    #    return nn.init.kaiming_uniform_(torch.empty(1, self.hidden_size))\n",
    "\n",
    "# need to figure out exactly how the dimensions changed\n"
   ]
  },
  {
   "cell_type": "code",
   "execution_count": 1271,
   "metadata": {},
   "outputs": [],
   "source": [
    "class MyCollator(object):\n",
    "    '''\n",
    "    Yields a batch from a list of Items\n",
    "    Args:\n",
    "    test : Set True when using with test data loader. Defaults to False\n",
    "    percentile : Trim sequences by this percentile\n",
    "    '''\n",
    "\n",
    "    # remove that eventually. I'm going to need to make my dataset a tuple with evals and elo\n",
    "    #def __init__(self):\n",
    "\n",
    "    def __call__(self, batch):\n",
    "        white_data = [item[0] for item in batch]\n",
    "        #black_data = [item[1] for item in batch]\n",
    "        target = [item[1] for item in batch]\n",
    "        white_lens = [i.shape[0] for i in white_data]\n",
    "        #black_lens = [i.shape[0] for i in black_data]\n",
    "\n",
    "\n",
    "        white_data = torch.nn.utils.rnn.pad_sequence(white_data, batch_first=True,padding_value = 0)\n",
    "        white_evals_packed = torch.nn.utils.rnn.pack_padded_sequence(white_data,batch_first = True, lengths=white_lens,enforce_sorted=False)\n",
    "\n",
    "        # black_data = torch.nn.utils.rnn.pad_sequence(black_data, batch_first=True,padding_value = 0)\n",
    "        # black_evals_packed = torch.nn.utils.rnn.pack_padded_sequence(black_data,batch_first = True, lengths=black_lens,enforce_sorted=False)\n",
    "\n",
    "\n",
    "        target = torch.tensor(target,dtype=torch.float32)\n",
    "        return [white_evals_packed, target]"
   ]
  },
  {
   "cell_type": "code",
   "execution_count": 1272,
   "metadata": {},
   "outputs": [],
   "source": [
    "input_size = 2\n",
    "hidden_size = 140\n",
    "no_layers = 4\n",
    "batch_size = 8"
   ]
  },
  {
   "cell_type": "code",
   "execution_count": 1273,
   "metadata": {},
   "outputs": [],
   "source": [
    "# (defining my model)\n",
    "model = MyRNN(input_size, hidden_size, no_layers)\n",
    "collate = MyCollator()"
   ]
  },
  {
   "cell_type": "code",
   "execution_count": 1274,
   "metadata": {},
   "outputs": [
    {
     "name": "stdout",
     "output_type": "stream",
     "text": [
      "<bound method Module.parameters of MyRNN(\n",
      "  (rnn): RNN(2, 140, num_layers=4, batch_first=True)\n",
      "  (fc): Linear(in_features=140, out_features=1, bias=False)\n",
      "  (final): Tanh()\n",
      ")>\n"
     ]
    }
   ],
   "source": [
    "print(model.parameters)"
   ]
  },
  {
   "cell_type": "markdown",
   "metadata": {},
   "source": [
    "# Training the model"
   ]
  },
  {
   "cell_type": "code",
   "execution_count": 1275,
   "outputs": [],
   "source": [
    "writer = SummaryWriter('runs/h45l4-2')"
   ],
   "metadata": {
    "collapsed": false
   }
  },
  {
   "cell_type": "code",
   "execution_count": 1276,
   "outputs": [],
   "source": [
    "# # add to loop\n",
    "# running_loss  = 0\n",
    "# running_loss += loss.item()\n",
    "# writer.add_scalar('training loss', running_loss / 100, epoch * n_total_steps +i)\n",
    "# writer.add_scalar('accuracy', running_loss / 100, epoch * n_total_steps +i)"
   ],
   "metadata": {
    "collapsed": false
   }
  },
  {
   "cell_type": "code",
   "execution_count": 1277,
   "metadata": {},
   "outputs": [],
   "source": [
    "data_loader = torch.utils.data.DataLoader(train_data_zip, batch_size=batch_size, shuffle=True ,collate_fn=collate)"
   ]
  },
  {
   "cell_type": "code",
   "execution_count": 1278,
   "metadata": {},
   "outputs": [],
   "source": [
    "learning_rate = .2"
   ]
  },
  {
   "cell_type": "code",
   "execution_count": 1279,
   "metadata": {},
   "outputs": [],
   "source": [
    "device = 'cuda' if torch.cuda.is_available() else 'cpu'"
   ]
  },
  {
   "cell_type": "code",
   "execution_count": 1280,
   "metadata": {},
   "outputs": [],
   "source": [
    "criterion = nn.MSELoss()\n",
    "optimizer = torch.optim.SGD(model.parameters(), lr = learning_rate)"
   ]
  },
  {
   "cell_type": "code",
   "execution_count": 1281,
   "metadata": {},
   "outputs": [],
   "source": [
    "# OK I've figured out the issue, I also need the sequence length for the RNN"
   ]
  },
  {
   "cell_type": "code",
   "execution_count": 1282,
   "metadata": {},
   "outputs": [
    {
     "name": "stdout",
     "output_type": "stream",
     "text": [
      "Epoch 1 step 47 - Learning Rate : 0.2- Avg Loss: 1.110109 - Change in loss: 1.1101088737664015\n",
      "Epoch 2 step 47 - Learning Rate : 0.2- Avg Loss: 1.029197 - Change in loss: 0.9271137484896071\n",
      "Epoch 3 step 47 - Learning Rate : 0.2- Avg Loss: 1.056684 - Change in loss: 1.0267071376682078\n",
      "Epoch 4 step 47 - Learning Rate : 0.2- Avg Loss: 1.034652 - Change in loss: 0.9791495723064966\n",
      "Epoch 5 step 47 - Learning Rate : 0.1- Avg Loss: 1.047380 - Change in loss: 1.012301499175306\n",
      "Epoch 6 step 47 - Learning Rate : 0.1- Avg Loss: 1.048540 - Change in loss: 1.001108282730968\n",
      "Epoch 7 step 47 - Learning Rate : 0.1- Avg Loss: 1.030554 - Change in loss: 0.982846056105278\n",
      "Epoch 8 step 47 - Learning Rate : 0.1- Avg Loss: 1.021637 - Change in loss: 0.9913477132680806\n",
      "Epoch 9 step 47 - Learning Rate : 0.1- Avg Loss: 1.034750 - Change in loss: 1.0128347976074057\n",
      "Epoch 10 step 47 - Learning Rate : 0.05- Avg Loss: 1.009087 - Change in loss: 0.975199619518898\n",
      "Epoch 11 step 47 - Learning Rate : 0.05- Avg Loss: 1.035362 - Change in loss: 1.0260379166511298\n",
      "Epoch 12 step 47 - Learning Rate : 0.05- Avg Loss: 1.036148 - Change in loss: 1.0007592777290715\n",
      "Epoch 13 step 47 - Learning Rate : 0.05- Avg Loss: 1.028291 - Change in loss: 0.992416988555355\n",
      "Epoch 14 step 47 - Learning Rate : 0.05- Avg Loss: 1.021073 - Change in loss: 0.9929802832364976\n",
      "Epoch 15 step 47 - Learning Rate : 0.025- Avg Loss: 1.000864 - Change in loss: 0.9802083796208655\n",
      "Epoch 16 step 47 - Learning Rate : 0.025- Avg Loss: 1.008582 - Change in loss: 1.0077115390015754\n",
      "Epoch 17 step 47 - Learning Rate : 0.025- Avg Loss: 0.999795 - Change in loss: 0.9912874291225854\n",
      "Epoch 18 step 47 - Learning Rate : 0.025- Avg Loss: 0.993162 - Change in loss: 0.9933657277312565\n",
      "Epoch 19 step 47 - Learning Rate : 0.025- Avg Loss: 1.011930 - Change in loss: 1.0188968197355264\n",
      "Epoch 20 step 47 - Learning Rate : 0.0125- Avg Loss: 0.989026 - Change in loss: 0.9773667544789436\n",
      "Epoch 21 step 47 - Learning Rate : 0.0125- Avg Loss: 0.993319 - Change in loss: 1.0043406945828368\n",
      "Epoch 22 step 47 - Learning Rate : 0.0125- Avg Loss: 0.983825 - Change in loss: 0.9904415838118997\n",
      "Epoch 23 step 47 - Learning Rate : 0.0125- Avg Loss: 0.995912 - Change in loss: 1.0122859775412463\n",
      "Epoch 24 step 47 - Learning Rate : 0.0125- Avg Loss: 0.976928 - Change in loss: 0.9809384621982702\n",
      "Epoch 25 step 47 - Learning Rate : 0.00625- Avg Loss: 0.970960 - Change in loss: 0.9938906489704673\n"
     ]
    }
   ],
   "source": [
    "avg_losses = []\n",
    "epochs = []\n",
    "avg_loss = 1\n",
    "\n",
    "for epoch in range(25):\n",
    "\n",
    "    if (epoch+1) % 5 ==0:\n",
    "        learning_rate /= 2\n",
    "        optimizer = torch.optim.SGD(model.parameters(), lr = learning_rate)\n",
    "\n",
    "    losses = []\n",
    "\n",
    "    i = 0\n",
    "    for white_evals, elo in data_loader:\n",
    "        white_evals = white_evals.to(device)\n",
    "        #black_evals = black_evals.to(device)\n",
    "        elo = elo.to(device)\n",
    "        outputs = model(white_evals)\n",
    "        #print(outputs)\n",
    "        #print(outputs.shape, elo.shape)\n",
    "        loss = criterion(outputs,elo)\n",
    "        # optimizing\n",
    "        optimizer.zero_grad()\n",
    "        loss.backward()\n",
    "        optimizer.step()\n",
    "        losses.append(loss.item())\n",
    "        i+=1\n",
    "\n",
    "    change = stats.mean(losses)/avg_loss\n",
    "    avg_loss = stats.mean(losses)\n",
    "\n",
    "    # adding histograms to the summary writer\n",
    "    for name, param in model.named_parameters():\n",
    "        writer.add_histogram(name, np.array(param.detach().tolist()), epoch)\n",
    "\n",
    "    # adding loss\n",
    "    writer.add_scalar('Average loss',avg_loss, epoch)\n",
    "    avg_losses.append(avg_loss)\n",
    "    epochs.append(epoch)\n",
    "    print(f'Epoch {epoch+1} step {i+1} - Learning Rate : {learning_rate}- Avg Loss: {avg_loss:3f} - Change in loss: {change}')\n",
    "\n",
    "\n",
    "writer.close()"
   ]
  },
  {
   "cell_type": "code",
   "execution_count": 1283,
   "metadata": {},
   "outputs": [
    {
     "data": {
      "text/plain": "<matplotlib.collections.PathCollection at 0x24a5f052f50>"
     },
     "execution_count": 1283,
     "metadata": {},
     "output_type": "execute_result"
    },
    {
     "data": {
      "text/plain": "<Figure size 432x288 with 1 Axes>",
      "image/png": "[encoded data removed]"
     },
     "metadata": {
      "needs_background": "light"
     },
     "output_type": "display_data"
    }
   ],
   "source": [
    "plt.scatter(epochs, avg_losses)"
   ]
  },
  {
   "cell_type": "markdown",
   "metadata": {},
   "source": [
    "## Test data"
   ]
  },
  {
   "cell_type": "code",
   "execution_count": 1284,
   "outputs": [],
   "source": [
    "model =model.eval()"
   ],
   "metadata": {
    "collapsed": false
   }
  },
  {
   "cell_type": "code",
   "execution_count": 1285,
   "metadata": {},
   "outputs": [
    {
     "data": {
      "text/plain": "MyRNN(\n  (rnn): RNN(2, 140, num_layers=4, batch_first=True)\n  (fc): Linear(in_features=140, out_features=1, bias=False)\n  (final): Tanh()\n)"
     },
     "execution_count": 1285,
     "metadata": {},
     "output_type": "execute_result"
    }
   ],
   "source": [
    "model.to(device)"
   ]
  },
  {
   "cell_type": "code",
   "execution_count": 1286,
   "metadata": {},
   "outputs": [],
   "source": [
    "test_data_loader = torch.utils.data.DataLoader(test_data_zip, batch_size=1, shuffle=False ,collate_fn=collate)"
   ]
  },
  {
   "cell_type": "code",
   "execution_count": 1287,
   "metadata": {},
   "outputs": [
    {
     "name": "stdout",
     "output_type": "stream",
     "text": [
      "Average loss : 0.8955340134016896\n"
     ]
    }
   ],
   "source": [
    "losses = []\n",
    "outputs = []\n",
    "elos = []\n",
    "for evals, elo in test_data_loader:\n",
    "    #print(\"evals\",evals.shape)\n",
    "    evals = evals.to(device)\n",
    "    elo = elo.to(device)\n",
    "    output = model(evals)\n",
    "    outputs.append(output.item())\n",
    "    elos.append(elo.item())\n",
    "    loss = criterion(output,elo)\n",
    "    #print(f'Model prediction : {output} \\n ELO : {elo} \\n MSE : {loss}')\n",
    "    losses.append(loss.item())\n",
    "print(f'Average loss : {stats.mean(losses)}')"
   ]
  },
  {
   "cell_type": "code",
   "execution_count": 1288,
   "metadata": {},
   "outputs": [
    {
     "data": {
      "text/plain": "tensor([-0.2037], grad_fn=<SelectBackward0>)"
     },
     "execution_count": 1288,
     "metadata": {},
     "output_type": "execute_result"
    }
   ],
   "source": [
    "model(evals)"
   ]
  },
  {
   "cell_type": "code",
   "execution_count": 1289,
   "outputs": [
    {
     "name": "stdout",
     "output_type": "stream",
     "text": [
      "[-0.21318089962005615, 0.014115694910287857, 0.6733883023262024, -0.059384189546108246, 0.5981887578964233, 1.4642105102539062, 0.7116910815238953, -0.47873079776763916, 0.3834530711174011, 0.7897300720214844, -0.13061243295669556, -2.2000741958618164, 0.29859641194343567, -0.08814433217048645, 0.18415005505084991, 0.3153572082519531, 0.3153572082519531, -0.0302606038749218, 0.21634088456630707, 1.2324891090393066, -1.2802400588989258, -2.0521774291992188, 0.04416690021753311, 0.561281144618988, 0.24893581867218018, 0.8900245428085327, 0.7504698038101196, -2.2000741958618164, 1.3005249500274658, 0.21634088456630707, -0.33132070302963257, -1.799088478088379, 0.561281144618988, 0.41814127564430237, -1.182690143585205, 0.7897300720214844, 0.561281144618988, -1.7198941707611084, -1.1605983972549438, -0.17228662967681885, -0.13061243295669556, -0.8960787057876587, 0.21634088456630707, 0.561281144618988, 0.1054101437330246, -1.369218349456787, -0.059384189546108246, 0.400743305683136, -0.10238945484161377, 0.04416690021753311, 1.4403964281082153, -0.6903017163276672, 4.360262870788574, -0.10238945484161377, 0.20019525289535522, 1.56093168258667, 0.6168146133422852, 0.07459688186645508, 0.28193965554237366, 0.9725127220153809, -0.10238945484161377, -0.46687063574790955, 0.7700393795967102, -0.0007692549843341112, 0.29859641194343567, -0.10238945484161377, 0.400743305683136, 0.8294774889945984, 1.4642105102539062, 0.9517000317573547, -2.236227512359619, 0.014115694910287857, -0.0302606038749218, 0.5248278379440308, -0.47873079776763916, 0.014115694910287857, -0.26651716232299805, 0.8095425367355347, 0.3153572082519531, 0.8697177767753601, 1.2100865840911865, 0.24893581867218018, 0.07459688186645508, -0.5022262334823608, 0.34919336438179016, 0.07459688186645508, 0.4356476664543152, 0.6733883023262024, 0.34919336438179016, -0.22664140164852142, -0.38170817494392395]\n"
     ]
    }
   ],
   "source": [
    "print(elos)"
   ],
   "metadata": {
    "collapsed": false
   }
  },
  {
   "cell_type": "code",
   "execution_count": 1290,
   "outputs": [],
   "source": [
    "elos = np.array(elos)\n",
    "elos = np.reshape(elos, (len(elos),1))\n",
    "\n",
    "outputs = np.array(outputs)\n",
    "outputs = np.reshape(outputs, (len(outputs),1))"
   ],
   "metadata": {
    "collapsed": false
   }
  },
  {
   "cell_type": "code",
   "execution_count": 1291,
   "outputs": [],
   "source": [
    "elos = welopt.inverse_transform(elos)\n",
    "outputs = welopt.inverse_transform(outputs)"
   ],
   "metadata": {
    "collapsed": false
   }
  },
  {
   "cell_type": "code",
   "execution_count": 1292,
   "outputs": [
    {
     "name": "stdout",
     "output_type": "stream",
     "text": [
      "21101.57046473561\n"
     ]
    }
   ],
   "source": [
    "print(mean_squared_error(elos,outputs))"
   ],
   "metadata": {
    "collapsed": false
   }
  },
  {
   "cell_type": "code",
   "execution_count": 1293,
   "outputs": [],
   "source": [
    "# de-normalize the elos - predicted and actual"
   ],
   "metadata": {
    "collapsed": false
   }
  },
  {
   "cell_type": "code",
   "execution_count": 1294,
   "metadata": {},
   "outputs": [
    {
     "name": "stderr",
     "output_type": "stream",
     "text": [
      "C:\\Users\\Administrator\\AppData\\Local\\Programs\\Python\\Python310\\lib\\site-packages\\seaborn\\_decorators.py:36: FutureWarning: Pass the following variables as keyword args: x, y. From version 0.12, the only valid positional argument will be `data`, and passing other arguments without an explicit keyword will result in an error or misinterpretation.\n",
      "  warnings.warn(\n"
     ]
    },
    {
     "data": {
      "text/plain": "<AxesSubplot:>"
     },
     "execution_count": 1294,
     "metadata": {},
     "output_type": "execute_result"
    },
    {
     "data": {
      "text/plain": "<Figure size 432x288 with 1 Axes>",
      "image/png": "[encoded data removed]"
     },
     "metadata": {
      "needs_background": "light"
     },
     "output_type": "display_data"
    }
   ],
   "source": [
    "sns.regplot(elos,outputs)"
   ]
  },
  {
   "cell_type": "markdown",
   "metadata": {},
   "source": [
    "# Plotting the neural net architecture"
   ]
  },
  {
   "cell_type": "code",
   "execution_count": 1295,
   "metadata": {},
   "outputs": [
    {
     "name": "stdout",
     "output_type": "stream",
     "text": [
      "[2759.34783641]\n",
      "[2716.83066607]\n"
     ]
    }
   ],
   "source": [
    "print(max(outputs))\n",
    "print(min(outputs))"
   ]
  },
  {
   "cell_type": "code",
   "execution_count": 1296,
   "outputs": [],
   "source": [
    "# Use torch.jit.trace to generate a torch.jit.ScriptModule via tracing.\n",
    "#traced_script_module = torch.jit.trace(model, example)"
   ],
   "metadata": {
    "collapsed": false
   }
  },
  {
   "cell_type": "code",
   "execution_count": 1297,
   "outputs": [],
   "source": [
    "params =dict(model.named_parameters())"
   ],
   "metadata": {
    "collapsed": false
   }
  },
  {
   "cell_type": "code",
   "execution_count": 1298,
   "outputs": [],
   "source": [
    "dot = make_dot(output, params=params, show_attrs=False, show_saved=False)"
   ],
   "metadata": {
    "collapsed": false
   }
  },
  {
   "cell_type": "code",
   "execution_count": 1299,
   "outputs": [
    {
     "data": {
      "text/plain": "'rnn_torchviz3.pdf'"
     },
     "execution_count": 1299,
     "metadata": {},
     "output_type": "execute_result"
    }
   ],
   "source": [
    "dot.render(\"rnn_torchviz3\", format=\"pdf\", engine= 'neato') # doesn't seem to work great with padded & packed input..."
   ],
   "metadata": {
    "collapsed": false
   }
  },
  {
   "cell_type": "markdown",
   "source": [
    "# Visualization"
   ],
   "metadata": {
    "collapsed": false
   }
  },
  {
   "cell_type": "code",
   "execution_count": 1300,
   "outputs": [],
   "source": [
    "writer = SummaryWriter('runs/run1')"
   ],
   "metadata": {
    "collapsed": false
   }
  }
 ],
 "metadata": {
  "kernelspec": {
   "display_name": "Python 3 (ipykernel)",
   "language": "python",
   "name": "python3"
  },
  "language_info": {
   "codemirror_mode": {
    "name": "ipython",
    "version": 2
   },
   "file_extension": ".py",
   "mimetype": "text/x-python",
   "name": "python",
   "nbconvert_exporter": "python",
   "pygments_lexer": "ipython2",
   "version": "2.7.6"
  }
 },
 "nbformat": 4,
 "nbformat_minor": 1
}
