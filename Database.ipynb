{
 "cells": [
  {
   "cell_type": "code",
   "execution_count": 9,
   "id": "0ec75996",
   "metadata": {},
   "outputs": [],
   "source": [
    "import chess.pgn\n",
    "import pandas as pd\n",
    "from tqdm import tqdm\n",
    "import io\n",
    "import time"
   ]
  },
  {
   "cell_type": "code",
   "execution_count": 10,
   "outputs": [],
   "source": [
    "def get_eval(game,n = None, t = None):\n",
    "    # Note - I would like to make a class which contains all important metrics for my neural net\n",
    "    board = game.board()\n",
    "    move_number = 0\n",
    "    white = []\n",
    "    black = []\n",
    "    centipawns = []\n",
    "    engine = chess.engine.SimpleEngine.popen_uci(\"stockfish_15_win_x64_avx2\\\\stockfish_15_x64_avx2.exe\")\n",
    "    engine.configure({\"Threads\": 8}) # or even higher\n",
    "\n",
    "    for move in game.mainline_moves():\n",
    "        board.push(move)\n",
    "        if move_number == 0:\n",
    "            info = engine.analyse(board, chess.engine.Limit(depth = n,time=t))\n",
    "            prev_centipawn = info[\"score\"].white().score()\n",
    "        if move_number > 0:\n",
    "            info = engine.analyse(board, chess.engine.Limit(depth = n,time = t))\n",
    "            centipawn = info[\"score\"].white().score()\n",
    "            if centipawn is None:\n",
    "                centipawn = 0\n",
    "            if move_number % 2 == 0:\n",
    "                white.append(centipawn - prev_centipawn)\n",
    "            else:\n",
    "                black.append(- (centipawn - prev_centipawn))\n",
    "            prev_centipawn = centipawn\n",
    "            centipawns.append(centipawn)\n",
    "        move_number +=1\n",
    "    engine.quit()\n",
    "    return white, black, centipawns"
   ],
   "metadata": {
    "collapsed": false
   }
  },
  {
   "cell_type": "code",
   "execution_count": 11,
   "outputs": [],
   "source": [
    "class Eval:\n",
    "    def __init__(self, game, n):\n",
    "        self.game = game\n",
    "        self.white_eval,self.black_eval,self.centipawns  = get_eval(self.game, n)"
   ],
   "metadata": {
    "collapsed": false
   }
  },
  {
   "cell_type": "code",
   "execution_count": 12,
   "outputs": [],
   "source": [
    "def to_eval(x,n):\n",
    "    eval = Eval(x,n)\n",
    "    return eval"
   ],
   "metadata": {
    "collapsed": false
   }
  },
  {
   "cell_type": "code",
   "execution_count": 13,
   "id": "74b1b0fc",
   "metadata": {},
   "outputs": [],
   "source": [
    "def pgn_to_csv(player):\n",
    "    i = 0\n",
    "    t = 0\n",
    "    file2 = open('pgns/' +player + '.pgn',encoding=\"utf-8\",errors = \"ignore\")\n",
    "\n",
    "    #TODO - change this to a more standard while loop\n",
    "    game = chess.pgn.read_game(file2)\n",
    "    df = pd.read_csv('blitz/' + player +'.csv')\n",
    "    df = df[[\"White\", \"Black\", \"WhiteELO\", \"BlackELO\", \"Date\",\"Event\", \"Result\", \"Opening\", \"Rounds\", \"Game\", \"Eval\", \"EventType\"]]\n",
    "    j = len(df.index)\n",
    "    while isinstance(game,chess.pgn.Game):\n",
    "        t +=1\n",
    "        white = []\n",
    "        black = []\n",
    "        white_elo = []\n",
    "        black_elo = []\n",
    "        date = []\n",
    "        event = []\n",
    "        result = []\n",
    "        wdiff = []\n",
    "        bdiff = []\n",
    "        rounds = []\n",
    "        opening = []\n",
    "        games = []\n",
    "        evals = []\n",
    "        i +=1\n",
    "        if i <= j:\n",
    "            game = chess.pgn.read_game(file2)\n",
    "            continue\n",
    "        start = time.time()\n",
    "        print(i)\n",
    "        if \"White\" in game.headers:\n",
    "            white.append(game.headers[\"White\"])\n",
    "        else:\n",
    "            white.append('*')\n",
    "        if \"Round\" in game.headers:\n",
    "            rounds.append(game.headers[\"Round\"])\n",
    "        else:\n",
    "            white.append('*')\n",
    "        if \"Black\" in game.headers:\n",
    "            black.append(game.headers[\"Black\"])\n",
    "        else:\n",
    "            black.append('*')\n",
    "        if \"WhiteElo\" in game.headers:\n",
    "            white_elo.append(game.headers[\"WhiteElo\"])\n",
    "        else:\n",
    "            white_elo.append('*')\n",
    "        if \"BlackElo\" in game.headers:\n",
    "            black_elo.append(game.headers[\"BlackElo\"])\n",
    "        else:\n",
    "            black_elo.append('*')\n",
    "        if \"Date\" in game.headers:\n",
    "            date.append(game.headers[\"Date\"])\n",
    "        else:\n",
    "            date.append('*')\n",
    "        if \"EventType\" in game.headers:\n",
    "            event.append(game.headers[\"EventType\"])\n",
    "            if 'blitz' in game.headers[\"EventType\"]:\n",
    "                evals.append(to_eval(game ,20).centipawns)\n",
    "            else:\n",
    "                evals.append('')\n",
    "        else:\n",
    "            event.append('*')\n",
    "            evals.append('')\n",
    "        if \"ECO\" in game.headers:\n",
    "            opening.append(game.headers[\"ECO\"])\n",
    "        else:\n",
    "            opening.append('*')\n",
    "        if \"Result\" in game.headers:\n",
    "            result.append(game.headers[\"Result\"])\n",
    "        else:\n",
    "            result.append('*')\n",
    "        games.append(game.mainline_moves())\n",
    "        #evals.append(to_eval(game ,20).centipawns)\n",
    "        end = time.time()\n",
    "        print(f\"time elapsed: {end - start}\")\n",
    "        game = chess.pgn.read_game(file2)\n",
    "\n",
    "        data = {\"White\": white, \"Black\": black, \"WhiteELO\": white_elo, \"BlackELO\": black_elo, \"Date\": date,\"Event\": event, \"Result\": result, \"Opening\": opening, \"Rounds\": rounds, \"Game\": games, \"Eval\": evals, \"EventType\": event}\n",
    "\n",
    "        df1 = pd.DataFrame(data)\n",
    "\n",
    "        df = pd.concat([df,df1])\n",
    "\n",
    "\n",
    "        df = df.reset_index(drop=True)\n",
    "\n",
    "        df.to_csv('blitz/' + player +'.csv')"
   ]
  },
  {
   "cell_type": "code",
   "execution_count": 15,
   "id": "2cb8c9c6",
   "metadata": {},
   "outputs": [
    {
     "name": "stdout",
     "output_type": "stream",
     "text": [
      "anand, viswanathan\n",
      "101\n",
      "time elapsed: 0.0\n",
      "102\n",
      "time elapsed: 0.0\n",
      "103\n",
      "time elapsed: 0.0\n",
      "104\n",
      "time elapsed: 0.0010106563568115234\n",
      "105\n",
      "time elapsed: 147.74716806411743\n",
      "106\n",
      "time elapsed: 0.0005650520324707031\n",
      "107\n",
      "time elapsed: 0.0\n",
      "108\n",
      "time elapsed: 0.0\n",
      "109\n",
      "time elapsed: 76.27528285980225\n",
      "110\n",
      "time elapsed: 0.0\n",
      "111\n",
      "time elapsed: 282.4897301197052\n",
      "112\n",
      "time elapsed: 128.9546251296997\n",
      "113\n",
      "time elapsed: 0.0\n",
      "114\n",
      "time elapsed: 0.0\n",
      "115\n",
      "time elapsed: 0.0\n",
      "116\n",
      "time elapsed: 0.0\n",
      "117\n",
      "time elapsed: 0.0\n",
      "118\n",
      "time elapsed: 0.0\n",
      "119\n",
      "time elapsed: 0.0\n",
      "120\n",
      "time elapsed: 0.0\n",
      "121\n"
     ]
    },
    {
     "name": "stderr",
     "output_type": "stream",
     "text": [
      "Exception ignored in: <function WeakSet.__init__.<locals>._remove at 0x000002824A667370>\n",
      "Traceback (most recent call last):\n",
      "  File \"C:\\Users\\Administrator\\AppData\\Local\\Programs\\Python\\Python310\\lib\\_weakrefset.py\", line 40, in _remove\n",
      "    self = selfref()\n",
      "KeyboardInterrupt: \n"
     ]
    },
    {
     "ename": "KeyboardInterrupt",
     "evalue": "",
     "output_type": "error",
     "traceback": [
      "\u001B[1;31m---------------------------------------------------------------------------\u001B[0m",
      "\u001B[1;31mKeyboardInterrupt\u001B[0m                         Traceback (most recent call last)",
      "Input \u001B[1;32mIn [15]\u001B[0m, in \u001B[0;36m<module>\u001B[1;34m\u001B[0m\n\u001B[0;32m      2\u001B[0m \u001B[38;5;28;01mfor\u001B[39;00m player \u001B[38;5;129;01min\u001B[39;00m players[\u001B[38;5;241m1\u001B[39m:]:\n\u001B[0;32m      3\u001B[0m     \u001B[38;5;28mprint\u001B[39m(player)\n\u001B[1;32m----> 4\u001B[0m     \u001B[43mpgn_to_csv\u001B[49m\u001B[43m(\u001B[49m\u001B[43mplayer\u001B[49m\u001B[43m)\u001B[49m\n",
      "Input \u001B[1;32mIn [13]\u001B[0m, in \u001B[0;36mpgn_to_csv\u001B[1;34m(player)\u001B[0m\n\u001B[0;32m     57\u001B[0m event\u001B[38;5;241m.\u001B[39mappend(game\u001B[38;5;241m.\u001B[39mheaders[\u001B[38;5;124m\"\u001B[39m\u001B[38;5;124mEventType\u001B[39m\u001B[38;5;124m\"\u001B[39m])\n\u001B[0;32m     58\u001B[0m \u001B[38;5;28;01mif\u001B[39;00m \u001B[38;5;124m'\u001B[39m\u001B[38;5;124mblitz\u001B[39m\u001B[38;5;124m'\u001B[39m \u001B[38;5;129;01min\u001B[39;00m game\u001B[38;5;241m.\u001B[39mheaders[\u001B[38;5;124m\"\u001B[39m\u001B[38;5;124mEventType\u001B[39m\u001B[38;5;124m\"\u001B[39m]:\n\u001B[1;32m---> 59\u001B[0m     evals\u001B[38;5;241m.\u001B[39mappend(\u001B[43mto_eval\u001B[49m\u001B[43m(\u001B[49m\u001B[43mgame\u001B[49m\u001B[43m \u001B[49m\u001B[43m,\u001B[49m\u001B[38;5;241;43m20\u001B[39;49m\u001B[43m)\u001B[49m\u001B[38;5;241m.\u001B[39mcentipawns)\n\u001B[0;32m     60\u001B[0m \u001B[38;5;28;01melse\u001B[39;00m:\n\u001B[0;32m     61\u001B[0m     evals\u001B[38;5;241m.\u001B[39mappend(\u001B[38;5;124m'\u001B[39m\u001B[38;5;124m'\u001B[39m)\n",
      "Input \u001B[1;32mIn [12]\u001B[0m, in \u001B[0;36mto_eval\u001B[1;34m(x, n)\u001B[0m\n\u001B[0;32m      1\u001B[0m \u001B[38;5;28;01mdef\u001B[39;00m \u001B[38;5;21mto_eval\u001B[39m(x,n):\n\u001B[1;32m----> 2\u001B[0m     \u001B[38;5;28meval\u001B[39m \u001B[38;5;241m=\u001B[39m \u001B[43mEval\u001B[49m\u001B[43m(\u001B[49m\u001B[43mx\u001B[49m\u001B[43m,\u001B[49m\u001B[43mn\u001B[49m\u001B[43m)\u001B[49m\n\u001B[0;32m      3\u001B[0m     \u001B[38;5;28;01mreturn\u001B[39;00m \u001B[38;5;28meval\u001B[39m\n",
      "Input \u001B[1;32mIn [11]\u001B[0m, in \u001B[0;36mEval.__init__\u001B[1;34m(self, game, n)\u001B[0m\n\u001B[0;32m      2\u001B[0m \u001B[38;5;28;01mdef\u001B[39;00m \u001B[38;5;21m__init__\u001B[39m(\u001B[38;5;28mself\u001B[39m, game, n):\n\u001B[0;32m      3\u001B[0m     \u001B[38;5;28mself\u001B[39m\u001B[38;5;241m.\u001B[39mgame \u001B[38;5;241m=\u001B[39m game\n\u001B[1;32m----> 4\u001B[0m     \u001B[38;5;28mself\u001B[39m\u001B[38;5;241m.\u001B[39mwhite_eval,\u001B[38;5;28mself\u001B[39m\u001B[38;5;241m.\u001B[39mblack_eval,\u001B[38;5;28mself\u001B[39m\u001B[38;5;241m.\u001B[39mcentipawns  \u001B[38;5;241m=\u001B[39m \u001B[43mget_eval\u001B[49m\u001B[43m(\u001B[49m\u001B[38;5;28;43mself\u001B[39;49m\u001B[38;5;241;43m.\u001B[39;49m\u001B[43mgame\u001B[49m\u001B[43m,\u001B[49m\u001B[43m \u001B[49m\u001B[43mn\u001B[49m\u001B[43m)\u001B[49m\n",
      "Input \u001B[1;32mIn [10]\u001B[0m, in \u001B[0;36mget_eval\u001B[1;34m(game, n, t)\u001B[0m\n\u001B[0;32m     15\u001B[0m     prev_centipawn \u001B[38;5;241m=\u001B[39m info[\u001B[38;5;124m\"\u001B[39m\u001B[38;5;124mscore\u001B[39m\u001B[38;5;124m\"\u001B[39m]\u001B[38;5;241m.\u001B[39mwhite()\u001B[38;5;241m.\u001B[39mscore()\n\u001B[0;32m     16\u001B[0m \u001B[38;5;28;01mif\u001B[39;00m move_number \u001B[38;5;241m>\u001B[39m \u001B[38;5;241m0\u001B[39m:\n\u001B[1;32m---> 17\u001B[0m     info \u001B[38;5;241m=\u001B[39m \u001B[43mengine\u001B[49m\u001B[38;5;241;43m.\u001B[39;49m\u001B[43manalyse\u001B[49m\u001B[43m(\u001B[49m\u001B[43mboard\u001B[49m\u001B[43m,\u001B[49m\u001B[43m \u001B[49m\u001B[43mchess\u001B[49m\u001B[38;5;241;43m.\u001B[39;49m\u001B[43mengine\u001B[49m\u001B[38;5;241;43m.\u001B[39;49m\u001B[43mLimit\u001B[49m\u001B[43m(\u001B[49m\u001B[43mdepth\u001B[49m\u001B[43m \u001B[49m\u001B[38;5;241;43m=\u001B[39;49m\u001B[43m \u001B[49m\u001B[43mn\u001B[49m\u001B[43m,\u001B[49m\u001B[43mtime\u001B[49m\u001B[43m \u001B[49m\u001B[38;5;241;43m=\u001B[39;49m\u001B[43m \u001B[49m\u001B[43mt\u001B[49m\u001B[43m)\u001B[49m\u001B[43m)\u001B[49m\n\u001B[0;32m     18\u001B[0m     centipawn \u001B[38;5;241m=\u001B[39m info[\u001B[38;5;124m\"\u001B[39m\u001B[38;5;124mscore\u001B[39m\u001B[38;5;124m\"\u001B[39m]\u001B[38;5;241m.\u001B[39mwhite()\u001B[38;5;241m.\u001B[39mscore()\n\u001B[0;32m     19\u001B[0m     \u001B[38;5;28;01mif\u001B[39;00m centipawn \u001B[38;5;129;01mis\u001B[39;00m \u001B[38;5;28;01mNone\u001B[39;00m:\n",
      "File \u001B[1;32m~\\AppData\\Local\\Programs\\Python\\Python310\\lib\\site-packages\\chess\\engine.py:2809\u001B[0m, in \u001B[0;36mSimpleEngine.analyse\u001B[1;34m(self, board, limit, multipv, game, info, root_moves, options)\u001B[0m\n\u001B[0;32m   2805\u001B[0m     coro \u001B[38;5;241m=\u001B[39m asyncio\u001B[38;5;241m.\u001B[39mwait_for(\n\u001B[0;32m   2806\u001B[0m         \u001B[38;5;28mself\u001B[39m\u001B[38;5;241m.\u001B[39mprotocol\u001B[38;5;241m.\u001B[39manalyse(board, limit, multipv\u001B[38;5;241m=\u001B[39mmultipv, game\u001B[38;5;241m=\u001B[39mgame, info\u001B[38;5;241m=\u001B[39minfo, root_moves\u001B[38;5;241m=\u001B[39mroot_moves, options\u001B[38;5;241m=\u001B[39moptions),\n\u001B[0;32m   2807\u001B[0m         \u001B[38;5;28mself\u001B[39m\u001B[38;5;241m.\u001B[39m_timeout_for(limit))\n\u001B[0;32m   2808\u001B[0m     future \u001B[38;5;241m=\u001B[39m asyncio\u001B[38;5;241m.\u001B[39mrun_coroutine_threadsafe(coro, \u001B[38;5;28mself\u001B[39m\u001B[38;5;241m.\u001B[39mprotocol\u001B[38;5;241m.\u001B[39mloop)\n\u001B[1;32m-> 2809\u001B[0m \u001B[38;5;28;01mreturn\u001B[39;00m \u001B[43mfuture\u001B[49m\u001B[38;5;241;43m.\u001B[39;49m\u001B[43mresult\u001B[49m\u001B[43m(\u001B[49m\u001B[43m)\u001B[49m\n",
      "File \u001B[1;32m~\\AppData\\Local\\Programs\\Python\\Python310\\lib\\concurrent\\futures\\_base.py:441\u001B[0m, in \u001B[0;36mFuture.result\u001B[1;34m(self, timeout)\u001B[0m\n\u001B[0;32m    438\u001B[0m \u001B[38;5;28;01melif\u001B[39;00m \u001B[38;5;28mself\u001B[39m\u001B[38;5;241m.\u001B[39m_state \u001B[38;5;241m==\u001B[39m FINISHED:\n\u001B[0;32m    439\u001B[0m     \u001B[38;5;28;01mreturn\u001B[39;00m \u001B[38;5;28mself\u001B[39m\u001B[38;5;241m.\u001B[39m__get_result()\n\u001B[1;32m--> 441\u001B[0m \u001B[38;5;28;43mself\u001B[39;49m\u001B[38;5;241;43m.\u001B[39;49m\u001B[43m_condition\u001B[49m\u001B[38;5;241;43m.\u001B[39;49m\u001B[43mwait\u001B[49m\u001B[43m(\u001B[49m\u001B[43mtimeout\u001B[49m\u001B[43m)\u001B[49m\n\u001B[0;32m    443\u001B[0m \u001B[38;5;28;01mif\u001B[39;00m \u001B[38;5;28mself\u001B[39m\u001B[38;5;241m.\u001B[39m_state \u001B[38;5;129;01min\u001B[39;00m [CANCELLED, CANCELLED_AND_NOTIFIED]:\n\u001B[0;32m    444\u001B[0m     \u001B[38;5;28;01mraise\u001B[39;00m CancelledError()\n",
      "File \u001B[1;32m~\\AppData\\Local\\Programs\\Python\\Python310\\lib\\threading.py:320\u001B[0m, in \u001B[0;36mCondition.wait\u001B[1;34m(self, timeout)\u001B[0m\n\u001B[0;32m    318\u001B[0m \u001B[38;5;28;01mtry\u001B[39;00m:    \u001B[38;5;66;03m# restore state no matter what (e.g., KeyboardInterrupt)\u001B[39;00m\n\u001B[0;32m    319\u001B[0m     \u001B[38;5;28;01mif\u001B[39;00m timeout \u001B[38;5;129;01mis\u001B[39;00m \u001B[38;5;28;01mNone\u001B[39;00m:\n\u001B[1;32m--> 320\u001B[0m         \u001B[43mwaiter\u001B[49m\u001B[38;5;241;43m.\u001B[39;49m\u001B[43macquire\u001B[49m\u001B[43m(\u001B[49m\u001B[43m)\u001B[49m\n\u001B[0;32m    321\u001B[0m         gotit \u001B[38;5;241m=\u001B[39m \u001B[38;5;28;01mTrue\u001B[39;00m\n\u001B[0;32m    322\u001B[0m     \u001B[38;5;28;01melse\u001B[39;00m:\n",
      "\u001B[1;31mKeyboardInterrupt\u001B[0m: "
     ]
    }
   ],
   "source": [
    "players = ['andreikin, dmitry', 'anand, viswanathan', 'wang, hao', 'grischuk, alexander', 'karjakin, sergey','duda, jan-krzysztof', 'radjabov, teimour', 'dominguez perez, leinier','nakamura, hikaru', 'vachier-lagrave, maxime','aronian, levon','mamedyarov, shakhriyar', 'so, wesley','ding, liren', 'rapport, richard', 'nepomniachtchi, ian', 'giri, anish', 'firouzja, alireza', 'caruana, fabiano','carlsen, magnus','zelcic, robert','khotenashvili, bela', 'bischoff, klaus']\n",
    "for player in players[1:]:\n",
    "    print(player)\n",
    "    pgn_to_csv(player)"
   ]
  },
  {
   "cell_type": "code",
   "execution_count": null,
   "outputs": [],
   "source": [],
   "metadata": {
    "collapsed": false,
    "pycharm": {
     "is_executing": true
    }
   }
  },
  {
   "cell_type": "code",
   "execution_count": null,
   "outputs": [],
   "source": [],
   "metadata": {
    "collapsed": false
   }
  }
 ],
 "metadata": {
  "kernelspec": {
   "display_name": "Python 3 (ipykernel)",
   "language": "python",
   "name": "python3"
  },
  "language_info": {
   "codemirror_mode": {
    "name": "ipython",
    "version": 3
   },
   "file_extension": ".py",
   "mimetype": "text/x-python",
   "name": "python",
   "nbconvert_exporter": "python",
   "pygments_lexer": "ipython3",
   "version": "3.10.2"
  }
 },
 "nbformat": 4,
 "nbformat_minor": 5
}
