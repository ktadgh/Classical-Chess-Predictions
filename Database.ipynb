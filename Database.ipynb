{
 "cells": [
  {
   "cell_type": "code",
   "execution_count": 2,
   "id": "0ec75996",
   "metadata": {},
   "outputs": [],
   "source": [
    "import chess.pgn\n",
    "import pandas as pd\n",
    "from tqdm import tqdm\n",
    "import io\n",
    "import time"
   ]
  },
  {
   "cell_type": "code",
   "execution_count": 3,
   "outputs": [],
   "source": [
    "def get_eval(game,n = None, t = None):\n",
    "    # Note - I would like to make a class which contains all important metrics for my neural net\n",
    "    board = game.board()\n",
    "    move_number = 0\n",
    "    white = []\n",
    "    black = []\n",
    "    centipawns = []\n",
    "    engine = chess.engine.SimpleEngine.popen_uci(\"stockfish_15_win_x64_avx2\\\\stockfish_15_x64_avx2.exe\")\n",
    "    engine.configure({\"Threads\": 8}) # or even higher\n",
    "\n",
    "    for move in game.mainline_moves():\n",
    "        board.push(move)\n",
    "        if move_number == 0:\n",
    "            info = engine.analyse(board, chess.engine.Limit(depth = n,time=t))\n",
    "            prev_centipawn = info[\"score\"].white().score()\n",
    "        if move_number > 0:\n",
    "            info = engine.analyse(board, chess.engine.Limit(depth = n,time = t))\n",
    "            centipawn = info[\"score\"].white().score()\n",
    "            if centipawn is None:\n",
    "                centipawn = 0\n",
    "            if move_number % 2 == 0:\n",
    "                white.append(centipawn - prev_centipawn)\n",
    "            else:\n",
    "                black.append(- (centipawn - prev_centipawn))\n",
    "            prev_centipawn = centipawn\n",
    "            centipawns.append(centipawn)\n",
    "        move_number +=1\n",
    "    engine.quit()\n",
    "    return white, black, centipawns"
   ],
   "metadata": {
    "collapsed": false
   }
  },
  {
   "cell_type": "code",
   "execution_count": 4,
   "outputs": [],
   "source": [
    "class Eval:\n",
    "    def __init__(self, game, n):\n",
    "        self.game = game\n",
    "        self.white_eval,self.black_eval,self.centipawns  = get_eval(self.game, n)"
   ],
   "metadata": {
    "collapsed": false
   }
  },
  {
   "cell_type": "code",
   "execution_count": 5,
   "outputs": [],
   "source": [
    "def to_eval(x,n):\n",
    "    eval = Eval(x,n)\n",
    "    return eval"
   ],
   "metadata": {
    "collapsed": false
   }
  },
  {
   "cell_type": "code",
   "execution_count": 15,
   "id": "74b1b0fc",
   "metadata": {},
   "outputs": [],
   "source": [
    "def pgn_to_csv(player):\n",
    "    i = 0\n",
    "    t = 0\n",
    "    file2 = open('pgns/' +player + '.pgn',encoding=\"utf-8\",errors = \"ignore\")\n",
    "\n",
    "    #TODO - change this to a more standard while loop\n",
    "    game = chess.pgn.read_game(file2)\n",
    "    df = pd.read_csv('blitz/' + player +'.csv')\n",
    "    df = df[[\"White\", \"Black\", \"WhiteELO\", \"BlackELO\", \"Date\",\"Event\", \"Result\", \"Opening\", \"Rounds\", \"Game\", \"Eval\", \"EventType\"]]\n",
    "    j = len(df.index)\n",
    "    while isinstance(game,chess.pgn.Game):\n",
    "        t +=1\n",
    "        white = []\n",
    "        black = []\n",
    "        white_elo = []\n",
    "        black_elo = []\n",
    "        date = []\n",
    "        event = []\n",
    "        result = []\n",
    "        wdiff = []\n",
    "        bdiff = []\n",
    "        rounds = []\n",
    "        opening = []\n",
    "        games = []\n",
    "        evals = []\n",
    "        i +=1\n",
    "        if i <= j:\n",
    "            game = chess.pgn.read_game(file2)\n",
    "            continue\n",
    "        start = time.time()\n",
    "        print(i)\n",
    "        if \"White\" in game.headers:\n",
    "            white.append(game.headers[\"White\"])\n",
    "        else:\n",
    "            white.append('*')\n",
    "        if \"Round\" in game.headers:\n",
    "            rounds.append(game.headers[\"Round\"])\n",
    "        else:\n",
    "            white.append('*')\n",
    "        if \"Black\" in game.headers:\n",
    "            black.append(game.headers[\"Black\"])\n",
    "        else:\n",
    "            black.append('*')\n",
    "        if \"WhiteElo\" in game.headers:\n",
    "            white_elo.append(game.headers[\"WhiteElo\"])\n",
    "        else:\n",
    "            white_elo.append('*')\n",
    "        if \"BlackElo\" in game.headers:\n",
    "            black_elo.append(game.headers[\"BlackElo\"])\n",
    "        else:\n",
    "            black_elo.append('*')\n",
    "        if \"Date\" in game.headers:\n",
    "            date.append(game.headers[\"Date\"])\n",
    "        else:\n",
    "            date.append('*')\n",
    "        if \"EventType\" in game.headers:\n",
    "            event.append(game.headers[\"EventType\"])\n",
    "            if 'blitz' in game.headers[\"EventType\"]:\n",
    "                evals.append(to_eval(game ,20).centipawns)\n",
    "            else:\n",
    "                evals.append('')\n",
    "        else:\n",
    "            event.append('*')\n",
    "            evals.append('')\n",
    "        if \"ECO\" in game.headers:\n",
    "            opening.append(game.headers[\"ECO\"])\n",
    "        else:\n",
    "            opening.append('*')\n",
    "        if \"Result\" in game.headers:\n",
    "            result.append(game.headers[\"Result\"])\n",
    "        else:\n",
    "            result.append('*')\n",
    "        games.append(game.mainline_moves())\n",
    "        #evals.append(to_eval(game ,20).centipawns)\n",
    "        end = time.time()\n",
    "        print(f\"time elapsed: {end - start}\")\n",
    "        game = chess.pgn.read_game(file2)\n",
    "\n",
    "        data = {\"White\": white, \"Black\": black, \"WhiteELO\": white_elo, \"BlackELO\": black_elo, \"Date\": date,\"Event\": event, \"Result\": result, \"Opening\": opening, \"Rounds\": rounds, \"Game\": games, \"Eval\": evals, \"EventType\": event}\n",
    "\n",
    "        df1 = pd.DataFrame(data)\n",
    "\n",
    "        df = pd.concat([df,df1])\n",
    "\n",
    "\n",
    "        df = df.reset_index(drop=True)\n",
    "\n",
    "        df.to_csv('blitz/' + player +'.csv')"
   ]
  },
  {
   "cell_type": "code",
   "execution_count": 16,
   "id": "2cb8c9c6",
   "metadata": {},
   "outputs": [
    {
     "name": "stdout",
     "output_type": "stream",
     "text": [
      "andreikin, dmitry\n"
     ]
    },
    {
     "name": "stderr",
     "output_type": "stream",
     "text": [
      "\n",
      "KeyboardInterrupt\n",
      "\n"
     ]
    }
   ],
   "source": [
    "players = ['andreikin, dmitry', 'anand, viswanathan', 'wang, hao', 'grischuk, alexander', 'karjakin, sergey','duda, jan-krzysztof', 'radjabov, teimour', 'dominguez perez, leinier','nakamura, hikaru', 'vachier-lagrave, maxime','aronian, levon','mamedyarov, shakhriyar', 'so, wesley','ding, liren', 'rapport, richard', 'nepomniachtchi, ian', 'giri, anish', 'firouzja, alireza', 'caruana, fabiano','carlsen, magnus','zelcic, robert','khotenashvili, bela', 'bischoff, klaus']\n",
    "for player in players:\n",
    "    print(player)\n",
    "    pgn_to_csv(player)"
   ]
  },
  {
   "cell_type": "code",
   "execution_count": null,
   "outputs": [],
   "source": [
    "df = pd.read_csv('blitz/mamedyarov, shakhriyar.csv')\n",
    "for player in players:\n",
    "    df.to_csv('blitz/' + player + '.csv')"
   ],
   "metadata": {
    "collapsed": false
   }
  },
  {
   "cell_type": "code",
   "execution_count": null,
   "outputs": [],
   "source": [],
   "metadata": {
    "collapsed": false
   }
  }
 ],
 "metadata": {
  "kernelspec": {
   "display_name": "Python 3 (ipykernel)",
   "language": "python",
   "name": "python3"
  },
  "language_info": {
   "codemirror_mode": {
    "name": "ipython",
    "version": 3
   },
   "file_extension": ".py",
   "mimetype": "text/x-python",
   "name": "python",
   "nbconvert_exporter": "python",
   "pygments_lexer": "ipython3",
   "version": "3.10.2"
  }
 },
 "nbformat": 4,
 "nbformat_minor": 5
}
