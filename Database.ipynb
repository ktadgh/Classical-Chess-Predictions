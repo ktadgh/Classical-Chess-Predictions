{
 "cells": [
  {
   "cell_type": "code",
   "execution_count": 1,
   "id": "0ec75996",
   "metadata": {},
   "outputs": [],
   "source": [
    "import chess.pgn\n",
    "import pandas as pd"
   ]
  },
  {
   "cell_type": "code",
   "execution_count": 1,
   "id": "74b1b0fc",
   "metadata": {},
   "outputs": [],
   "source": [
    "def pgn_to_csv(player):\n",
    "    file2 = open('pgns/' +player + '.pgn',encoding=\"utf-8\",errors = \"ignore\")\n",
    "    white = []\n",
    "    black = []\n",
    "    white_elo = []\n",
    "    black_elo = []\n",
    "    date = []\n",
    "    event = []\n",
    "    result = []\n",
    "    wdiff = []\n",
    "    bdiff = []\n",
    "    rounds = []\n",
    "    opening = []\n",
    "    moves = []\n",
    "    #TODO - change this to a more standard while loop\n",
    "    game = chess.pgn.read_game(file2)\n",
    "    while isinstance(game,chess.pgn.Game):\n",
    "        if \"White\" in game.headers:\n",
    "            white.append(game.headers[\"White\"])\n",
    "        else:\n",
    "            white.append('*')\n",
    "        if \"Round\" in game.headers:\n",
    "            rounds.append(game.headers[\"Round\"])\n",
    "        else:\n",
    "            white.append('*')\n",
    "        if \"Black\" in game.headers:\n",
    "            black.append(game.headers[\"Black\"])\n",
    "        else:\n",
    "            black.append('*')\n",
    "        if \"WhiteElo\" in game.headers:\n",
    "            white_elo.append(game.headers[\"WhiteElo\"])\n",
    "        else:\n",
    "            white_elo.append('*')\n",
    "        if \"BlackElo\" in game.headers:\n",
    "            black_elo.append(game.headers[\"BlackElo\"])\n",
    "        else:\n",
    "            black_elo.append('*')\n",
    "        if \"Date\" in game.headers:\n",
    "            date.append(game.headers[\"Date\"])\n",
    "        else:\n",
    "            date.append('*')\n",
    "        if \"EventType\" in game.headers:\n",
    "            event.append(game.headers[\"EventType\"])\n",
    "        else:\n",
    "            event.append('*')\n",
    "        if \"ECO\" in game.headers:\n",
    "            opening.append(game.headers[\"ECO\"])\n",
    "        else:\n",
    "            opening.append('*')\n",
    "        if \"Result\" in game.headers:\n",
    "            result.append(game.headers[\"Result\"])\n",
    "        else:\n",
    "            result.append('*')\n",
    "        game = chess.pgn.read_game(file2)\n",
    "\n",
    "        data = {\"White\": white, \"Black\": black, \"WhiteELO\": white_elo, \"BlackELO\": black_elo, \"Date\": date,\"Event\": event, \"Result\": result, \"Opening\": opening, \"Rounds\": rounds}\n",
    "        \n",
    "        df = pd.DataFrame(data)\n",
    "        df.to_csv('csvs/' + player +'.csv')"
   ]
  },
  {
   "cell_type": "code",
   "execution_count": 8,
   "id": "2cb8c9c6",
   "metadata": {},
   "outputs": [],
   "source": [
    "players = ['andreikin, dmitry', 'anand, viswanathan', 'wang, hao', 'grischuk, alexander', 'karjakin, sergey','duda, jan-krzysztof', 'radjabov, teimour', 'dominguez perez, leinier','nakamura, hikaru', 'vachier-lagrave, maxime','aronian, levon','mamedyarov, shakhriyar', 'so, wesley','ding, liren', 'rapport, richard', 'nepomniachtchi, ian', 'giri, anish', 'firouzja, alireza', 'caruana, fabiano','carlsen, magnus']\n",
    "for player in players:\n",
    "    pgn_to_csv(player)"
   ]
  },
  {
   "cell_type": "code",
   "execution_count": null,
   "id": "0b6e6f6c",
   "metadata": {},
   "outputs": [],
   "source": []
  }
 ],
 "metadata": {
  "kernelspec": {
   "display_name": "Python 3 (ipykernel)",
   "language": "python",
   "name": "python3"
  },
  "language_info": {
   "codemirror_mode": {
    "name": "ipython",
    "version": 3
   },
   "file_extension": ".py",
   "mimetype": "text/x-python",
   "name": "python",
   "nbconvert_exporter": "python",
   "pygments_lexer": "ipython3",
   "version": "3.10.2"
  }
 },
 "nbformat": 4,
 "nbformat_minor": 5
}
